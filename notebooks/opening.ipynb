{
 "cells": [
  {
   "cell_type": "code",
   "execution_count": 1,
   "metadata": {},
   "outputs": [],
   "source": [
    "import os\n",
    "import chess.pgn\n",
    "from tqdm.notebook import tqdm\n",
    "import json\n",
    "import chess\n",
    "import subprocess\n",
    "from lib import bitMapFile, boardToBitMap\n",
    "import requests\n",
    "from urllib.parse import urlsplit"
   ]
  },
  {
   "cell_type": "code",
   "execution_count": 2,
   "metadata": {},
   "outputs": [],
   "source": [
    "output_dir = \"/home/mystic/Programming/mystic-bot/notebooks/data/pgns/\"\n",
    "os.makedirs(output_dir, exist_ok=True)\n",
    "links_path = \"/home/mystic/Programming/mystic-bot/notebooks/data/files.html\"\n",
    "# url = \"https://www.pgnmentor.com/files.html\""
   ]
  },
  {
   "cell_type": "code",
   "execution_count": 3,
   "metadata": {},
   "outputs": [],
   "source": [
    "class Trie:\n",
    "\n",
    "    def __init__( self, move ):\n",
    "        self.move = move\n",
    "        self.count = 0\n",
    "        self.children = {}\n",
    "\n",
    "    def childrenSummary( self ):\n",
    "        summary = {}\n",
    "        for move, child in self.children.items():\n",
    "            summary[ move ] = {\n",
    "                \"white\": child.white,\n",
    "                \"black\": child.black,\n",
    "                \"total\": child.total,\n",
    "            }\n",
    "        return summary\n",
    "\n",
    "    def combinedChildrenSummary( self, existingSummary ):\n",
    "        newSummary = self.childrenSummary()\n",
    "        for move in newSummary:\n",
    "            if move in existingSummary:\n",
    "                existingSummary[ move ][ \"white\" ] += newSummary[ move ][ \"white\" ]\n",
    "                existingSummary[ move ][ \"black\" ] += newSummary[ move ][ \"black\" ]\n",
    "                existingSummary[ move ][ \"total\" ] += newSummary[ move ][ \"total\" ]\n",
    "            else:\n",
    "                existingSummary[ move ] = newSummary[ move ]\n",
    "        return existingSummary\n",
    "\n",
    "    def __str__( self ):\n",
    "        return f\"MOVE: { self.move }:\\nChildren: { list( self.children ) }\\nWhite: {self.white}\\nBlack: {self.black}\\nTotal: {self.total}\""
   ]
  },
  {
   "cell_type": "code",
   "execution_count": 6,
   "metadata": {},
   "outputs": [
    {
     "data": {
      "application/vnd.jupyter.widget-view+json": {
       "model_id": "4c247aa8f4f340898bccfd5db6d07eb3",
       "version_major": 2,
       "version_minor": 0
      },
      "text/plain": [
       "  0%|          | 0/249 [00:00<?, ?it/s]"
      ]
     },
     "metadata": {},
     "output_type": "display_data"
    },
    {
     "name": "stderr",
     "output_type": "stream",
     "text": [
      "illegal san: 'Qxe1' in r2k3r/2pPp3/p4n2/3b2B1/1p5P/2qP4/3RQ1P1/4K2R w - - 2 31 while parsing <Game at 0x76fa22f0d220 ('Gelfand,B' vs. 'Gareev,T', '2019.12.29' at 'Moscow RUS')>\n",
      "illegal san: 'Bf3' in 6k1/pb3r1p/1q4p1/6Q1/2p1rb2/3p3P/PP1R2P1/2BR1N1K w - - 8 38 while parsing <Game at 0x76fa2c2003e0 ('Schleining,Z' vs. 'Paehtz,E', '2014.11.23' at 'Dresden GER')>\n"
     ]
    },
    {
     "name": "stdout",
     "output_type": "stream",
     "text": [
      "Number of moves: 8589441\n",
      "DB size: 1479274\n"
     ]
    }
   ],
   "source": [
    "root = {'move': 'root', 'count': 0, 'children': {}}\n",
    "\n",
    "halfLimit = 16\n",
    "movesSeen, dbSize = 0, 0\n",
    "for file_name in tqdm(os.listdir(output_dir)):\n",
    "    if file_name.endswith(\".pgn\"):\n",
    "        file_path = os.path.join(output_dir, file_name)\n",
    "        with open(file_path, \"r\", encoding=\"utf-8\", errors=\"ignore\") as pgn_file:\n",
    "            while True:\n",
    "                game = chess.pgn.read_game(pgn_file)\n",
    "                if game is None:\n",
    "                    break\n",
    "                currNode = root\n",
    "                for i, move in enumerate(game.mainline_moves()):\n",
    "                    if i > halfLimit: break\n",
    "                    uci = move.uci()\n",
    "                    if uci not in currNode['children']:\n",
    "                        currNode['children'][uci] = {'move': uci, 'count': 0, 'children': {}}\n",
    "                        dbSize += 1\n",
    "                    currNode['children'][uci]['count'] += 1\n",
    "                    movesSeen += 1\n",
    "                    currNode = currNode['children'][uci]\n",
    "\n",
    "print(\"Number of moves:\", movesSeen)\n",
    "print(\"DB size:\", dbSize)"
   ]
  },
  {
   "cell_type": "code",
   "execution_count": 7,
   "metadata": {},
   "outputs": [],
   "source": [
    "with open(\"openings.json\", \"w\") as f:\n",
    "    json.dump(root, f, indent=4)"
   ]
  },
  {
   "cell_type": "code",
   "execution_count": 5,
   "metadata": {},
   "outputs": [],
   "source": [
    "openings = []\n",
    "\n",
    "with open(\"openings.json\", \"r\") as f:\n",
    "    openings = json.load(f)"
   ]
  },
  {
   "cell_type": "code",
   "execution_count": 7,
   "metadata": {},
   "outputs": [
    {
     "name": "stdout",
     "output_type": "stream",
     "text": [
      "MOVE: root:\n",
      "Children: []\n",
      "White: 0\n",
      "Black: 0\n",
      "Total: inf\n"
     ]
    },
    {
     "data": {
      "application/vnd.jupyter.widget-view+json": {
       "model_id": "541e7e4842e042469e5a45819142b844",
       "version_major": 2,
       "version_minor": 0
      },
      "text/plain": [
       "  0%|          | 0/1087171 [00:00<?, ?it/s]"
      ]
     },
     "metadata": {},
     "output_type": "display_data"
    }
   ],
   "source": [
    "root = Trie( 'root' )\n",
    "root.total = float( 'inf' )\n",
    "currNode = root\n",
    "print(root)\n",
    "\n",
    "for i, game in tqdm( list( enumerate( openings.values() ) ) ):\n",
    "    moves, result = game[ 'moves' ], game[ 'result' ]\n",
    "    for j, move in enumerate( moves ):\n",
    "        if j >= 31: break # Openings generally doesn't exceed more than 30 half moves\n",
    "        target = None\n",
    "        if move in currNode.children:\n",
    "            target = currNode.children[ move ]\n",
    "        else:\n",
    "            target = Trie( move )\n",
    "            currNode.children[ move ] = target\n",
    "            totalNodes += 1\n",
    "        if result == 1: target.white += 1\n",
    "        elif result == -1: target.black -= 1\n",
    "        target.total += 1\n",
    "        currNode = target\n",
    "        totalMoves += 1\n",
    "    currNode = root"
   ]
  },
  {
   "cell_type": "code",
   "execution_count": 8,
   "metadata": {},
   "outputs": [
    {
     "data": {
      "text/plain": [
       "(33142925, 16656191)"
      ]
     },
     "execution_count": 8,
     "metadata": {},
     "output_type": "execute_result"
    }
   ],
   "source": [
    "totalMoves, totalNodes"
   ]
  },
  {
   "cell_type": "code",
   "execution_count": 9,
   "metadata": {},
   "outputs": [
    {
     "data": {
      "application/vnd.jupyter.widget-view+json": {
       "model_id": "319f28575c774f019db34c42018e9ec1",
       "version_major": 2,
       "version_minor": 0
      },
      "text/plain": [
       "  0%|          | 0/16656191 [00:00<?, ?it/s]"
      ]
     },
     "metadata": {},
     "output_type": "display_data"
    }
   ],
   "source": [
    "openingDB = {}\n",
    "TOTAL_THRESHOLD = 2\n",
    "\n",
    "def processQueue( queue ):\n",
    "    # Save files\n",
    "    for i, ( bitmap, _ ) in enumerate( queue ):\n",
    "        bitMapFile( f'./tmp/{i}.json', bitMap=bitmap, isRead=False )\n",
    "    \n",
    "    # Get hashes\n",
    "    output = subprocess.run([\"../target/release/mystic-bot\", \"./tmp\"], capture_output=True)\n",
    "    hashes = output.stdout.decode('utf-8').split('\\n')\n",
    "    hashes.pop()\n",
    "    hashes = [ int( x.split()[ -1 ] ) for x in hashes ]\n",
    "\n",
    "    assert len( hashes ) == len( queue )\n",
    "\n",
    "    # Update DB\n",
    "    for i, ( _, node ) in enumerate( queue ):\n",
    "        if node == root.children[ 'b1c3' ].children[ 'e7e5' ]:\n",
    "            print( hashes[ i ] )\n",
    "        if hashes[ i ] in openingDB:\n",
    "            openingDB[ hashes[ i ] ] = node.combinedChildrenSummary( openingDB[ hashes[ i ] ] )\n",
    "        else:\n",
    "            openingDB[ hashes[ i ] ] = node.childrenSummary()\n",
    "            if len( openingDB ) % 10000 == 0:\n",
    "                print( f\"OpeningDB Size: { len( openingDB ) }\" )\n",
    "\n",
    "    # Remove stale files\n",
    "    for i in range( len( queue ) ):\n",
    "        os.remove( f'./tmp/{i}.json' )\n",
    "    queue.clear()\n",
    "\n",
    "def openingHelper( currNode, nodeList, pb, hashingQueue ):\n",
    "\n",
    "    if len(currNode.children) == 0:\n",
    "        # If there are no further moves return\n",
    "        # return\n",
    "        return\n",
    "\n",
    "    if len( hashingQueue ) >= 500:\n",
    "        processQueue( hashingQueue )\n",
    "        hashingQueue = []\n",
    "\n",
    "    if currNode.total >= TOTAL_THRESHOLD:\n",
    "        # Only process node if enough games have reached the position\n",
    "        board = chess.Board()\n",
    "        for node in nodeList[1:]:\n",
    "            board.push_uci( node.move )\n",
    "        bitMap = boardToBitMap( board )\n",
    "        hashingQueue.append( ( bitMap, currNode ) )\n",
    "\n",
    "    for nextNode in currNode.children.values():\n",
    "        nodeList.append(nextNode)\n",
    "        pb.update( 1 )\n",
    "        openingHelper( nextNode, nodeList, pb, hashingQueue )\n",
    "        nodeList.pop()\n",
    "\n",
    "hashingQueue = []\n",
    "\n",
    "pb = tqdm(total=totalNodes)\n",
    "# openingHelper( root, [ root ], pb, hashingQueue )"
   ]
  },
  {
   "cell_type": "code",
   "execution_count": 15,
   "metadata": {},
   "outputs": [
    {
     "data": {
      "text/plain": [
       "<__main__.Trie at 0x11d2fd16cd0>"
      ]
     },
     "execution_count": 15,
     "metadata": {},
     "output_type": "execute_result"
    }
   ],
   "source": [
    "root.children[ 'b1c3' ].children[ 'e7e5' ]"
   ]
  },
  {
   "cell_type": "code",
   "execution_count": 2,
   "metadata": {},
   "outputs": [],
   "source": [
    "board = chess.Board()\n",
    "bitMap = boardToBitMap( board )\n",
    "bitMapFile( 'tmp.json', bitMap=bitMap, isRead=False )"
   ]
  },
  {
   "cell_type": "code",
   "execution_count": 5,
   "metadata": {},
   "outputs": [
    {
     "data": {
      "text/plain": [
       "44"
      ]
     },
     "execution_count": 5,
     "metadata": {},
     "output_type": "execute_result"
    }
   ],
   "source": [
    "board.ep_square"
   ]
  },
  {
   "cell_type": "code",
   "execution_count": null,
   "metadata": {},
   "outputs": [],
   "source": []
  }
 ],
 "metadata": {
  "kernelspec": {
   "display_name": ".env",
   "language": "python",
   "name": "python3"
  },
  "language_info": {
   "codemirror_mode": {
    "name": "ipython",
    "version": 3
   },
   "file_extension": ".py",
   "mimetype": "text/x-python",
   "name": "python",
   "nbconvert_exporter": "python",
   "pygments_lexer": "ipython3",
   "version": "3.12.3"
  }
 },
 "nbformat": 4,
 "nbformat_minor": 2
}
