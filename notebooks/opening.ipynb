{
 "cells": [
  {
   "cell_type": "code",
   "execution_count": 1,
   "metadata": {},
   "outputs": [],
   "source": [
    "import os\n",
    "import chess.pgn\n",
    "from tqdm.notebook import tqdm\n",
    "import json\n",
    "import chess\n",
    "import subprocess\n",
    "from lib import bitMapFile, boardToBitMap"
   ]
  },
  {
   "cell_type": "code",
   "execution_count": 2,
   "metadata": {},
   "outputs": [],
   "source": [
    "output_dir = \"./PGN/\"\n",
    "os.makedirs(output_dir, exist_ok=True)\n",
    "\n",
    "# Base URL\n",
    "base_url = \"http://www.bookuppro.com/ecopgn/\"\n",
    "\n",
    "# Letters and numbers to iterate over\n",
    "letters = \"ABCDE\"\n",
    "numbers = [f\"{i:02}\" for i in range(100)]  # '00' to '99'"
   ]
  },
  {
   "cell_type": "code",
   "execution_count": 3,
   "metadata": {},
   "outputs": [],
   "source": [
    "def parse_pgn_file(file_path):\n",
    "    \"\"\"Parse a PGN file containing multiple games.\"\"\"\n",
    "    if not os.path.exists(file_path):\n",
    "        return []\n",
    "    games = []\n",
    "    with open(file_path, 'r') as pgn_file:\n",
    "        while True:\n",
    "            game = chess.pgn.read_game(pgn_file)\n",
    "            if game is None:\n",
    "                break\n",
    "            games.append(game)\n",
    "    return games\n",
    "\n",
    "\n",
    "def get_moves_as_uci(game):\n",
    "    \"\"\"Extract the moves of a game in UCI format.\"\"\"\n",
    "    return [move.uci() for move in game.mainline_moves()]"
   ]
  },
  {
   "cell_type": "code",
   "execution_count": 4,
   "metadata": {},
   "outputs": [],
   "source": [
    "# allMoves = {}\n",
    "# gameCount = 0\n",
    "\n",
    "# pb = tqdm( total=len(letters)*len(numbers) )\n",
    "# for letter in letters:\n",
    "#     for num in numbers:\n",
    "#         pb.update(1)\n",
    "#         file_path = f\"./PGN/{letter}{num}.pgn\"\n",
    "#         games = parse_pgn_file(file_path)\n",
    "#         for idx, game in enumerate(games):\n",
    "\n",
    "#             result_str = game.headers.get(\"Result\", \"\")\n",
    "#             if result_str == \"1-0\":\n",
    "#                 result = 1\n",
    "#             elif result_str == \"0-1\":\n",
    "#                 result = -1\n",
    "#             elif result_str == \"1/2-1/2\":\n",
    "#                 result = 0\n",
    "#             else:\n",
    "#                 result = None\n",
    "\n",
    "#             uciMoves = get_moves_as_uci(game)\n",
    "#             if uciMoves:\n",
    "#                 allMoves[ gameCount ] = {\n",
    "#                     \"result\": result,\n",
    "#                     \"moves\": uciMoves\n",
    "#                 }\n",
    "#                 gameCount += 1"
   ]
  },
  {
   "cell_type": "code",
   "execution_count": 5,
   "metadata": {},
   "outputs": [],
   "source": [
    "openings = []\n",
    "\n",
    "with open(\"openings.json\", \"r\") as f:\n",
    "    openings = json.load(f)"
   ]
  },
  {
   "cell_type": "code",
   "execution_count": 6,
   "metadata": {},
   "outputs": [],
   "source": [
    "class Trie:\n",
    "\n",
    "    def __init__( self, move ):\n",
    "        self.move = move\n",
    "        self.white = 0\n",
    "        self.black = 0\n",
    "        self.total = 0\n",
    "        self.children = {}\n",
    "\n",
    "    def childrenSummary( self ):\n",
    "        summary = {}\n",
    "        for move, child in self.children.items():\n",
    "            summary[ move ] = {\n",
    "                \"white\": child.white,\n",
    "                \"black\": child.black,\n",
    "                \"total\": child.total,\n",
    "            }\n",
    "        return summary\n",
    "\n",
    "    def combinedChildrenSummary( self, existingSummary ):\n",
    "        newSummary = self.childrenSummary()\n",
    "        for move in newSummary:\n",
    "            if move in existingSummary:\n",
    "                existingSummary[ move ][ \"white\" ] += newSummary[ move ][ \"white\" ]\n",
    "                existingSummary[ move ][ \"black\" ] += newSummary[ move ][ \"black\" ]\n",
    "                existingSummary[ move ][ \"total\" ] += newSummary[ move ][ \"total\" ]\n",
    "            else:\n",
    "                existingSummary[ move ] = newSummary[ move ]\n",
    "        return existingSummary\n",
    "\n",
    "    def __str__( self ):\n",
    "        return f\"MOVE: { self.move }:\\nChildren: { list( self.children ) }\\nWhite: {self.white}\\nBlack: {self.black}\\nTotal: {self.total}\"\n",
    "\n",
    "totalMoves, totalNodes = 0, 1"
   ]
  },
  {
   "cell_type": "code",
   "execution_count": 7,
   "metadata": {},
   "outputs": [
    {
     "name": "stdout",
     "output_type": "stream",
     "text": [
      "MOVE: root:\n",
      "Children: []\n",
      "White: 0\n",
      "Black: 0\n",
      "Total: inf\n"
     ]
    },
    {
     "data": {
      "application/vnd.jupyter.widget-view+json": {
       "model_id": "541e7e4842e042469e5a45819142b844",
       "version_major": 2,
       "version_minor": 0
      },
      "text/plain": [
       "  0%|          | 0/1087171 [00:00<?, ?it/s]"
      ]
     },
     "metadata": {},
     "output_type": "display_data"
    }
   ],
   "source": [
    "root = Trie( 'root' )\n",
    "root.total = float( 'inf' )\n",
    "currNode = root\n",
    "print(root)\n",
    "\n",
    "for i, game in tqdm( list( enumerate( openings.values() ) ) ):\n",
    "    moves, result = game[ 'moves' ], game[ 'result' ]\n",
    "    for j, move in enumerate( moves ):\n",
    "        if j >= 31: break # Openings generally doesn't exceed more than 30 half moves\n",
    "        target = None\n",
    "        if move in currNode.children:\n",
    "            target = currNode.children[ move ]\n",
    "        else:\n",
    "            target = Trie( move )\n",
    "            currNode.children[ move ] = target\n",
    "            totalNodes += 1\n",
    "        if result == 1: target.white += 1\n",
    "        elif result == -1: target.black -= 1\n",
    "        target.total += 1\n",
    "        currNode = target\n",
    "        totalMoves += 1\n",
    "    currNode = root"
   ]
  },
  {
   "cell_type": "code",
   "execution_count": 8,
   "metadata": {},
   "outputs": [
    {
     "data": {
      "text/plain": [
       "(33142925, 16656191)"
      ]
     },
     "execution_count": 8,
     "metadata": {},
     "output_type": "execute_result"
    }
   ],
   "source": [
    "totalMoves, totalNodes"
   ]
  },
  {
   "cell_type": "code",
   "execution_count": 9,
   "metadata": {},
   "outputs": [
    {
     "data": {
      "application/vnd.jupyter.widget-view+json": {
       "model_id": "319f28575c774f019db34c42018e9ec1",
       "version_major": 2,
       "version_minor": 0
      },
      "text/plain": [
       "  0%|          | 0/16656191 [00:00<?, ?it/s]"
      ]
     },
     "metadata": {},
     "output_type": "display_data"
    }
   ],
   "source": [
    "openingDB = {}\n",
    "TOTAL_THRESHOLD = 2\n",
    "\n",
    "def processQueue( queue ):\n",
    "    # Save files\n",
    "    for i, ( bitmap, _ ) in enumerate( queue ):\n",
    "        bitMapFile( f'./tmp/{i}.json', bitMap=bitmap, isRead=False )\n",
    "    \n",
    "    # Get hashes\n",
    "    output = subprocess.run([\"../target/release/mystic-bot\", \"./tmp\"], capture_output=True)\n",
    "    hashes = output.stdout.decode('utf-8').split('\\n')\n",
    "    hashes.pop()\n",
    "    hashes = [ int( x.split()[ -1 ] ) for x in hashes ]\n",
    "\n",
    "    assert len( hashes ) == len( queue )\n",
    "\n",
    "    # Update DB\n",
    "    for i, ( _, node ) in enumerate( queue ):\n",
    "        if node == root.children[ 'b1c3' ].children[ 'e7e5' ]:\n",
    "            print( hashes[ i ] )\n",
    "        if hashes[ i ] in openingDB:\n",
    "            openingDB[ hashes[ i ] ] = node.combinedChildrenSummary( openingDB[ hashes[ i ] ] )\n",
    "        else:\n",
    "            openingDB[ hashes[ i ] ] = node.childrenSummary()\n",
    "            if len( openingDB ) % 10000 == 0:\n",
    "                print( f\"OpeningDB Size: { len( openingDB ) }\" )\n",
    "\n",
    "    # Remove stale files\n",
    "    for i in range( len( queue ) ):\n",
    "        os.remove( f'./tmp/{i}.json' )\n",
    "    queue.clear()\n",
    "\n",
    "def openingHelper( currNode, nodeList, pb, hashingQueue ):\n",
    "\n",
    "    if len(currNode.children) == 0:\n",
    "        # If there are no further moves return\n",
    "        # return\n",
    "        return\n",
    "\n",
    "    if len( hashingQueue ) >= 500:\n",
    "        processQueue( hashingQueue )\n",
    "        hashingQueue = []\n",
    "\n",
    "    if currNode.total >= TOTAL_THRESHOLD:\n",
    "        # Only process node if enough games have reached the position\n",
    "        board = chess.Board()\n",
    "        for node in nodeList[1:]:\n",
    "            board.push_uci( node.move )\n",
    "        bitMap = boardToBitMap( board )\n",
    "        hashingQueue.append( ( bitMap, currNode ) )\n",
    "\n",
    "    for nextNode in currNode.children.values():\n",
    "        nodeList.append(nextNode)\n",
    "        pb.update( 1 )\n",
    "        openingHelper( nextNode, nodeList, pb, hashingQueue )\n",
    "        nodeList.pop()\n",
    "\n",
    "hashingQueue = []\n",
    "\n",
    "pb = tqdm(total=totalNodes)\n",
    "# openingHelper( root, [ root ], pb, hashingQueue )"
   ]
  },
  {
   "cell_type": "code",
   "execution_count": 15,
   "metadata": {},
   "outputs": [
    {
     "data": {
      "text/plain": [
       "<__main__.Trie at 0x11d2fd16cd0>"
      ]
     },
     "execution_count": 15,
     "metadata": {},
     "output_type": "execute_result"
    }
   ],
   "source": [
    "root.children[ 'b1c3' ].children[ 'e7e5' ]"
   ]
  },
  {
   "cell_type": "code",
   "execution_count": 2,
   "metadata": {},
   "outputs": [],
   "source": [
    "board = chess.Board()\n",
    "bitMap = boardToBitMap( board )\n",
    "bitMapFile( 'tmp.json', bitMap=bitMap, isRead=False )"
   ]
  },
  {
   "cell_type": "code",
   "execution_count": 5,
   "metadata": {},
   "outputs": [
    {
     "data": {
      "text/plain": [
       "44"
      ]
     },
     "execution_count": 5,
     "metadata": {},
     "output_type": "execute_result"
    }
   ],
   "source": [
    "board.ep_square"
   ]
  },
  {
   "cell_type": "code",
   "execution_count": null,
   "metadata": {},
   "outputs": [],
   "source": []
  }
 ],
 "metadata": {
  "kernelspec": {
   "display_name": ".env",
   "language": "python",
   "name": "python3"
  },
  "language_info": {
   "codemirror_mode": {
    "name": "ipython",
    "version": 3
   },
   "file_extension": ".py",
   "mimetype": "text/x-python",
   "name": "python",
   "nbconvert_exporter": "python",
   "pygments_lexer": "ipython3",
   "version": "3.11.3"
  }
 },
 "nbformat": 4,
 "nbformat_minor": 2
}
