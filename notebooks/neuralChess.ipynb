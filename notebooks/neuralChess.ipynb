{
 "cells": [
  {
   "cell_type": "markdown",
   "id": "ea9c78d5",
   "metadata": {},
   "source": [
    "# Imports"
   ]
  },
  {
   "cell_type": "code",
   "execution_count": 66,
   "id": "259477d5",
   "metadata": {},
   "outputs": [],
   "source": [
    "import torch\n",
    "import torch.nn as nn\n",
    "import torch.nn.functional as F\n",
    "import chess\n",
    "from torchsummary import summary\n",
    "import numpy as np\n",
    "import random\n",
    "from tqdm.notebook import tqdm\n",
    "import chess.svg\n",
    "import cairosvg\n",
    "import chess.engine\n",
    "import os"
   ]
  },
  {
   "cell_type": "markdown",
   "id": "d3638c00",
   "metadata": {},
   "source": [
    "# Device"
   ]
  },
  {
   "cell_type": "code",
   "execution_count": 67,
   "id": "afd02f6a",
   "metadata": {},
   "outputs": [
    {
     "name": "stdout",
     "output_type": "stream",
     "text": [
      "✅ 1 CUDA device(s) available:\n",
      "  └─ [0] NVIDIA GeForce GTX 1650\n"
     ]
    }
   ],
   "source": [
    "if torch.cuda.is_available():\n",
    "    device_count = torch.cuda.device_count()\n",
    "    print(f\"✅ {device_count} CUDA device(s) available:\")\n",
    "    for i in range(device_count):\n",
    "        print(f\"  └─ [{i}] {torch.cuda.get_device_name(i)}\")\n",
    "    DEVICE = torch.device(\"cuda\")\n",
    "else:\n",
    "    print(\"⚠️ CUDA not available, using CPU.\")\n",
    "    DEVICE = torch.device(\"cpu\")"
   ]
  },
  {
   "cell_type": "markdown",
   "id": "0d637c13",
   "metadata": {},
   "source": [
    "# Encoding"
   ]
  },
  {
   "cell_type": "code",
   "execution_count": 68,
   "id": "66e10b9c",
   "metadata": {},
   "outputs": [
    {
     "data": {
      "text/plain": [
       "(1924, 2312)"
      ]
     },
     "execution_count": 68,
     "metadata": {},
     "output_type": "execute_result"
    }
   ],
   "source": [
    "\n",
    "def board_encoder(board: chess.Board) -> np.ndarray:\n",
    "    planes = np.zeros((19, 8, 8), dtype=np.float32)\n",
    "    piece_map = board.piece_map()\n",
    "\n",
    "    # 12 planes for pieces (6x2)\n",
    "    for square, piece in piece_map.items():\n",
    "        row, col = divmod(square, 8)\n",
    "        plane_idx = (piece.piece_type - 1) + \\\n",
    "            (0 if piece.color == chess.WHITE else 6)\n",
    "        planes[plane_idx][row][col] = 1\n",
    "\n",
    "    # Turn to move\n",
    "    planes[12].fill(float(board.turn))\n",
    "\n",
    "    # Castling rights (4 planes)\n",
    "    planes[13].fill(board.has_kingside_castling_rights(chess.WHITE))\n",
    "    planes[14].fill(board.has_queenside_castling_rights(chess.WHITE))\n",
    "    planes[15].fill(board.has_kingside_castling_rights(chess.BLACK))\n",
    "    planes[16].fill(board.has_queenside_castling_rights(chess.BLACK))\n",
    "\n",
    "    # Halfmove clock (normalized)\n",
    "    planes[17].fill(board.halfmove_clock / 100.0)\n",
    "\n",
    "    # En Passant square (new plane!)\n",
    "    if board.ep_square is not None:\n",
    "        row, col = divmod(board.ep_square, 8)\n",
    "        planes[18][row][col] = 1.0\n",
    "\n",
    "    return planes\n",
    "\n",
    "\n",
    "def move_to_index(move: chess.Move) -> int:\n",
    "    from_square = move.from_square\n",
    "    to_square = move.to_square\n",
    "    promotion = move.promotion\n",
    "\n",
    "    dx = chess.square_file(to_square) - chess.square_file(from_square)\n",
    "    dy = chess.square_rank(to_square) - chess.square_rank(from_square)\n",
    "\n",
    "    # Handle knight moves separately\n",
    "    knight_deltas = {(1, 2): 0, (2, 1): 1, (2, -1): 2, (1, -2):3,\n",
    "                     (-1, -2): 4, (-2, -1): 5, (-2, 1): 6, (-1, 2): 7}\n",
    "    if (dx, dy) in knight_deltas:\n",
    "        dir_idx = knight_deltas[(dx, dy)]\n",
    "        return from_square * 73 + 56 + dir_idx\n",
    "\n",
    "    # Handle promotions\n",
    "    if promotion is not None:\n",
    "        promo_types = [chess.KNIGHT, chess.ROOK, chess.BISHOP]\n",
    "        directions = [-1, 0, 1]  # left, straight, right\n",
    "        dx = chess.square_file(to_square) - chess.square_file(from_square)\n",
    "\n",
    "        if dx in directions and promotion in promo_types:\n",
    "            dir_idx = directions.index(dx)\n",
    "            promo_idx = promo_types.index(promotion)\n",
    "            return from_square * 73 + 64 + (promo_idx * 3) + dir_idx\n",
    "\n",
    "    # Handle normal directional moves\n",
    "    directions = {(0, 1): 0, (1, 0): 1, (0, -1): 2, (-1, 0): 3,\n",
    "                  (1, 1): 4, (1, -1): 5, (-1, 1): 6, (-1, -1): 7}\n",
    "    curr_dir = [0, 0]\n",
    "    if dx > 0: curr_dir[0] = 1\n",
    "    if dx < 0: curr_dir[0] = -1\n",
    "    if dy > 0: curr_dir[1] = 1\n",
    "    if dy < 0: curr_dir[1] = -1\n",
    "    curr_dir = tuple(curr_dir)\n",
    "    diff = abs(dx) | abs(dy)\n",
    "    assert diff > 0\n",
    "\n",
    "    if curr_dir in directions:\n",
    "        dir_index = directions[curr_dir]\n",
    "        return from_square * 73 + (diff-1)*8 + dir_index\n",
    "\n",
    "    raise ValueError(f\"Move {move} could not be encoded.\")\n",
    "\n",
    "\n",
    "def index_to_move(index: int) -> chess.Move:\n",
    "    from_square = index // 73\n",
    "    sub_index = index % 73\n",
    "\n",
    "    if sub_index < 56:\n",
    "        # Sliding move\n",
    "        directions = [(0, 1), (1, 0), (0, -1), (-1, 0), (1, 1), (1, -1), (-1, 1), (-1, -1)]\n",
    "        diff, dir = sub_index // 8, sub_index%8\n",
    "        diff += 1\n",
    "        dx, dy = ( diff*directions[dir][0], diff*directions[dir][1] )\n",
    "        fx = chess.square_file(from_square)\n",
    "        fy = chess.square_rank(from_square)\n",
    "        tx = fx + dx\n",
    "        ty = fy + dy\n",
    "        if 0 <= tx < 8 and 0 <= ty < 8:\n",
    "            to_square = chess.square(tx, ty)\n",
    "            move = chess.Move(from_square, to_square)\n",
    "            return move\n",
    "\n",
    "    elif sub_index < 64:\n",
    "        # Knight move\n",
    "        knight_deltas = [(1, 2), (2, 1), (2, -1), (1, -2),\n",
    "                         (-1, -2), (-2, -1), (-2, 1), (-1, 2)]\n",
    "        dx, dy = knight_deltas[sub_index - 56]\n",
    "        fx = chess.square_file(from_square)\n",
    "        fy = chess.square_rank(from_square)\n",
    "        tx = fx + dx\n",
    "        ty = fy + dy\n",
    "        if 0 <= tx < 8 and 0 <= ty < 8:\n",
    "            to_square = chess.square(tx, ty)\n",
    "            move = chess.Move(from_square, to_square)\n",
    "            return move\n",
    "\n",
    "    else:\n",
    "        # Promotion\n",
    "        promo_idx = sub_index - 64\n",
    "        promotion_types = [chess.KNIGHT, chess.ROOK, chess.BISHOP]\n",
    "        directions = [-1, 0, 1]\n",
    "        promo_type = promotion_types[promo_idx // 3]\n",
    "        dx = directions[promo_idx % 3]\n",
    "\n",
    "        fx = chess.square_file(from_square)\n",
    "        fy = chess.square_rank(from_square)\n",
    "        tx = fx + dx\n",
    "        if fy == 6:\n",
    "            ty = 7\n",
    "        elif fy == 1:\n",
    "            ty = 0\n",
    "        else:\n",
    "            raise ValueError(\"Not a valid promotion square\")\n",
    "\n",
    "        if 0 <= tx < 8 and 0 <= ty < 8:\n",
    "            to_square = chess.square(tx, ty)\n",
    "            move = chess.Move(from_square, to_square, promotion=promo_type)\n",
    "            return move\n",
    "\n",
    "    raise ValueError(f\"Index {index} could not be decoded to a legal move.\")\n",
    "\n",
    "\n",
    "TOTAL_MOVES = 4672\n",
    "index_move_map, move_index_map = {}, {}\n",
    "for id in range(TOTAL_MOVES+1):\n",
    "    try:\n",
    "        index_move_map[id] = index_to_move(id)\n",
    "    except:\n",
    "        continue\n",
    "for _, move in index_move_map.items():\n",
    "    id = move_to_index(move)\n",
    "    move_index_map[move] = id\n",
    "    curr_uci = move.uci()\n",
    "    # Queen promotion maps to native\n",
    "    if curr_uci[-1] =='1' or curr_uci[-1] == '8':\n",
    "        move_index_map[chess.Move.from_uci(curr_uci+'q')] = id\n",
    "len(index_move_map), len(move_index_map)"
   ]
  },
  {
   "cell_type": "markdown",
   "id": "9bee3162",
   "metadata": {},
   "source": [
    "# Model"
   ]
  },
  {
   "cell_type": "code",
   "execution_count": 69,
   "id": "093c9d5e",
   "metadata": {},
   "outputs": [
    {
     "name": "stdout",
     "output_type": "stream",
     "text": [
      "✅ Loaded model from best_model.pt\n",
      "----------------------------------------------------------------\n",
      "        Layer (type)               Output Shape         Param #\n",
      "================================================================\n",
      "            Conv2d-1            [-1, 128, 8, 8]          22,016\n",
      "       BatchNorm2d-2            [-1, 128, 8, 8]             256\n",
      "            Conv2d-3            [-1, 128, 8, 8]         147,584\n",
      "       BatchNorm2d-4            [-1, 128, 8, 8]             256\n",
      "         Dropout2d-5            [-1, 128, 8, 8]               0\n",
      "            Conv2d-6            [-1, 128, 8, 8]         147,584\n",
      "       BatchNorm2d-7            [-1, 128, 8, 8]             256\n",
      "     ResidualBlock-8            [-1, 128, 8, 8]               0\n",
      "            Conv2d-9            [-1, 128, 8, 8]         147,584\n",
      "      BatchNorm2d-10            [-1, 128, 8, 8]             256\n",
      "        Dropout2d-11            [-1, 128, 8, 8]               0\n",
      "           Conv2d-12            [-1, 128, 8, 8]         147,584\n",
      "      BatchNorm2d-13            [-1, 128, 8, 8]             256\n",
      "    ResidualBlock-14            [-1, 128, 8, 8]               0\n",
      "           Conv2d-15            [-1, 128, 8, 8]         147,584\n",
      "      BatchNorm2d-16            [-1, 128, 8, 8]             256\n",
      "        Dropout2d-17            [-1, 128, 8, 8]               0\n",
      "           Conv2d-18            [-1, 128, 8, 8]         147,584\n",
      "      BatchNorm2d-19            [-1, 128, 8, 8]             256\n",
      "    ResidualBlock-20            [-1, 128, 8, 8]               0\n",
      "           Conv2d-21            [-1, 128, 8, 8]         147,584\n",
      "      BatchNorm2d-22            [-1, 128, 8, 8]             256\n",
      "        Dropout2d-23            [-1, 128, 8, 8]               0\n",
      "           Conv2d-24            [-1, 128, 8, 8]         147,584\n",
      "      BatchNorm2d-25            [-1, 128, 8, 8]             256\n",
      "    ResidualBlock-26            [-1, 128, 8, 8]               0\n",
      "           Conv2d-27            [-1, 128, 8, 8]         147,584\n",
      "      BatchNorm2d-28            [-1, 128, 8, 8]             256\n",
      "        Dropout2d-29            [-1, 128, 8, 8]               0\n",
      "           Conv2d-30            [-1, 128, 8, 8]         147,584\n",
      "      BatchNorm2d-31            [-1, 128, 8, 8]             256\n",
      "    ResidualBlock-32            [-1, 128, 8, 8]               0\n",
      "           Conv2d-33            [-1, 128, 8, 8]         147,584\n",
      "      BatchNorm2d-34            [-1, 128, 8, 8]             256\n",
      "        Dropout2d-35            [-1, 128, 8, 8]               0\n",
      "           Conv2d-36            [-1, 128, 8, 8]         147,584\n",
      "      BatchNorm2d-37            [-1, 128, 8, 8]             256\n",
      "    ResidualBlock-38            [-1, 128, 8, 8]               0\n",
      "           Conv2d-39            [-1, 128, 8, 8]         147,584\n",
      "      BatchNorm2d-40            [-1, 128, 8, 8]             256\n",
      "        Dropout2d-41            [-1, 128, 8, 8]               0\n",
      "           Conv2d-42            [-1, 128, 8, 8]         147,584\n",
      "      BatchNorm2d-43            [-1, 128, 8, 8]             256\n",
      "    ResidualBlock-44            [-1, 128, 8, 8]               0\n",
      "           Conv2d-45            [-1, 128, 8, 8]         147,584\n",
      "      BatchNorm2d-46            [-1, 128, 8, 8]             256\n",
      "        Dropout2d-47            [-1, 128, 8, 8]               0\n",
      "           Conv2d-48            [-1, 128, 8, 8]         147,584\n",
      "      BatchNorm2d-49            [-1, 128, 8, 8]             256\n",
      "    ResidualBlock-50            [-1, 128, 8, 8]               0\n",
      "           Conv2d-51            [-1, 128, 8, 8]         147,584\n",
      "      BatchNorm2d-52            [-1, 128, 8, 8]             256\n",
      "        Dropout2d-53            [-1, 128, 8, 8]               0\n",
      "           Conv2d-54            [-1, 128, 8, 8]         147,584\n",
      "      BatchNorm2d-55            [-1, 128, 8, 8]             256\n",
      "    ResidualBlock-56            [-1, 128, 8, 8]               0\n",
      "           Conv2d-57            [-1, 128, 8, 8]         147,584\n",
      "      BatchNorm2d-58            [-1, 128, 8, 8]             256\n",
      "        Dropout2d-59            [-1, 128, 8, 8]               0\n",
      "           Conv2d-60            [-1, 128, 8, 8]         147,584\n",
      "      BatchNorm2d-61            [-1, 128, 8, 8]             256\n",
      "    ResidualBlock-62            [-1, 128, 8, 8]               0\n",
      "           Conv2d-63              [-1, 4, 8, 8]             516\n",
      "      BatchNorm2d-64              [-1, 4, 8, 8]               8\n",
      "           Linear-65                 [-1, 1024]         263,168\n",
      "           Linear-66                 [-1, 4672]       4,788,800\n",
      "           Conv2d-67              [-1, 2, 8, 8]             258\n",
      "      BatchNorm2d-68              [-1, 2, 8, 8]               4\n",
      "           Linear-69                  [-1, 128]          16,512\n",
      "           Linear-70                   [-1, 64]           8,256\n",
      "           Linear-71                    [-1, 1]              65\n",
      "================================================================\n",
      "Total params: 8,056,659\n",
      "Trainable params: 8,056,659\n",
      "Non-trainable params: 0\n",
      "----------------------------------------------------------------\n",
      "Input size (MB): 0.00\n",
      "Forward/backward pass size (MB): 3.93\n",
      "Params size (MB): 30.73\n",
      "Estimated Total Size (MB): 34.66\n",
      "----------------------------------------------------------------\n"
     ]
    }
   ],
   "source": [
    "class ResidualBlock(nn.Module):\n",
    "    def __init__(self, channels, dropout=0.1):\n",
    "        super().__init__()\n",
    "        self.conv1 = nn.Conv2d(channels, channels, kernel_size=3, padding=1)\n",
    "        self.bn1 = nn.BatchNorm2d(channels)\n",
    "        self.dropout = nn.Dropout2d(dropout)\n",
    "        self.conv2 = nn.Conv2d(channels, channels, kernel_size=3, padding=1)\n",
    "        self.bn2 = nn.BatchNorm2d(channels)\n",
    "\n",
    "    def forward(self, x):\n",
    "        identity = x\n",
    "        out = F.relu(self.bn1(self.conv1(x)))\n",
    "        out = self.dropout(out)\n",
    "        out = self.bn2(self.conv2(out))\n",
    "        out += identity\n",
    "        return F.relu(out)\n",
    "\n",
    "\n",
    "class ChessNet(nn.Module):\n",
    "    def __init__(self):\n",
    "        super().__init__()\n",
    "        self.input_conv = nn.Conv2d(19, 128, kernel_size=3, padding=1)\n",
    "        self.bn_input = nn.BatchNorm2d(128)\n",
    "\n",
    "        # Deepen the residual stack\n",
    "        self.res_blocks = nn.Sequential(\n",
    "            *[ResidualBlock(128, dropout=0.1) for _ in range(10)])\n",
    "\n",
    "        # Policy head\n",
    "        self.policy_conv = nn.Conv2d(128, 4, kernel_size=1)\n",
    "        self.policy_bn = nn.BatchNorm2d(4)\n",
    "        self.policy_fc1 = nn.Linear(4 * 8 * 8, 1024)\n",
    "        self.policy_fc2 = nn.Linear(1024, 4672)\n",
    "\n",
    "        # Value head\n",
    "        self.value_conv = nn.Conv2d(128, 2, kernel_size=1)\n",
    "        self.value_bn = nn.BatchNorm2d(2)\n",
    "        self.value_fc1 = nn.Linear(2 * 8 * 8, 128)\n",
    "        self.value_fc2 = nn.Linear(128, 64)\n",
    "        self.value_fc3 = nn.Linear(64, 1)\n",
    "\n",
    "    def forward(self, x):\n",
    "        x = F.relu(self.bn_input(self.input_conv(x)))\n",
    "        x = self.res_blocks(x)\n",
    "\n",
    "        # Policy head\n",
    "        p = F.relu(self.policy_bn(self.policy_conv(x)))\n",
    "        p = p.view(p.size(0), -1)\n",
    "        p = F.relu(self.policy_fc1(p))\n",
    "        p = self.policy_fc2(p)\n",
    "\n",
    "        # Value head\n",
    "        v = F.relu(self.value_bn(self.value_conv(x)))\n",
    "        v = v.view(v.size(0), -1)\n",
    "        v = F.relu(self.value_fc1(v))\n",
    "        v = F.relu(self.value_fc2(v))\n",
    "        v = torch.tanh(self.value_fc3(v))\n",
    "\n",
    "        return p, v\n",
    "\n",
    "\n",
    "# Instantiate and print summary\n",
    "model = ChessNet()\n",
    "model.to(DEVICE)\n",
    "\n",
    "# Load model if checkpoint exists\n",
    "checkpoint_path = \"best_model.pt\"\n",
    "if os.path.exists(checkpoint_path):\n",
    "    model.load_state_dict(torch.load(checkpoint_path, map_location=DEVICE))\n",
    "    print(f\"✅ Loaded model from {checkpoint_path}\")\n",
    "else:\n",
    "    print(\"🚀 No saved model found. Using a fresh model.\")\n",
    "\n",
    "# Print model summary for input size [batch_size=1, 19, 8, 8]\n",
    "summary(model, input_size=(19, 8, 8))"
   ]
  },
  {
   "cell_type": "markdown",
   "id": "a1da2698",
   "metadata": {},
   "source": [
    "# MCTS Search"
   ]
  },
  {
   "cell_type": "code",
   "execution_count": 70,
   "id": "9585029c",
   "metadata": {},
   "outputs": [],
   "source": [
    "import numpy as np\n",
    "import math\n",
    "import chess\n",
    "\n",
    "\n",
    "class MCTSNode:\n",
    "    def __init__(self, board: chess.Board, parent=None, move=None):\n",
    "        self.board = board\n",
    "        self.parent = parent\n",
    "        self.move = move\n",
    "        self.children = {}\n",
    "        self.visit_count = 0\n",
    "        self.total_value = 0.0\n",
    "        self.prior = 0.0\n",
    "\n",
    "    def is_expanded(self):\n",
    "        return len(self.children) > 0\n",
    "\n",
    "    def value(self):\n",
    "        if self.visit_count == 0:\n",
    "            return 0\n",
    "        return self.total_value / self.visit_count\n",
    "\n",
    "def softmax_temperature(logits, temperature=1.0):\n",
    "    logits = np.array(logits, dtype=np.float32)\n",
    "    logits = logits / temperature\n",
    "    logits = logits - np.max(logits)\n",
    "    exp_logits = np.exp(logits)\n",
    "    return exp_logits / np.sum(exp_logits)\n",
    "\n",
    "def select_child(node, c_puct=1.0):\n",
    "    best_score = -float('inf')\n",
    "    best_move = None\n",
    "    best_child = None\n",
    "\n",
    "    for move, child in node.children.items():\n",
    "        ucb = child.value() + c_puct * child.prior * \\\n",
    "            math.sqrt(node.visit_count) / (1 + child.visit_count)\n",
    "        if ucb > best_score:\n",
    "            best_score = ucb\n",
    "            best_move = move\n",
    "            best_child = child\n",
    "    return best_move, best_child\n",
    "\n",
    "def expand_node(node, policy_logits, legal_moves):\n",
    "    legal_indices = [move_index_map[move] for move in legal_moves]\n",
    "    masked_logits = np.full_like(policy_logits, -np.inf)\n",
    "    for idx in legal_indices:\n",
    "        masked_logits[idx] = policy_logits[idx]\n",
    "\n",
    "    probs = softmax_temperature(masked_logits)\n",
    "    for move in legal_moves:\n",
    "        index = move_index_map[move]\n",
    "        prior = probs[index]\n",
    "        next_board = node.board.copy()\n",
    "        next_board.push(move)\n",
    "        child = MCTSNode(next_board, parent=node, move=move)\n",
    "        child.prior = prior\n",
    "        node.children[move] = child\n",
    "\n",
    "\n",
    "def add_dirichlet_noise(node, alpha=0.3, epsilon=0.25):\n",
    "    legal_moves = list(node.children.keys())\n",
    "    noise = np.random.dirichlet([alpha] * len(legal_moves))\n",
    "\n",
    "    for i, move in enumerate(legal_moves):\n",
    "        child = node.children[move]\n",
    "        child.prior = (1 - epsilon) * child.prior + epsilon * noise[i]\n",
    "\n",
    "def backpropagate(node, value):\n",
    "    while node:\n",
    "        node.visit_count += 1\n",
    "        node.total_value += value\n",
    "        node = node.parent\n",
    "        value = -value\n",
    "\n",
    "def evaluate_board_with_mcts_node(board, model):\n",
    "\n",
    "    if board.is_game_over(claim_draw=True):\n",
    "        result = board.result(claim_draw=True)\n",
    "        if result == '1-0':\n",
    "            value = 1\n",
    "        elif result == '0-1':\n",
    "            value = -1\n",
    "        else:\n",
    "            value = 0\n",
    "\n",
    "        # Assign uniform policy for terminal state\n",
    "        policy_logits = np.zeros(TOTAL_MOVES)\n",
    "        return policy_logits, value\n",
    "\n",
    "    # Non-terminal: use neural network\n",
    "    board_input = board_encoder(board)\n",
    "    board_input = torch.tensor(\n",
    "        board_input, dtype=torch.float32).unsqueeze(0).to(DEVICE)\n",
    "\n",
    "    with torch.no_grad():\n",
    "        policy_logits, value_tensor = model(board_input)\n",
    "        policy_logits = policy_logits[0].cpu().numpy()\n",
    "        value = float(value_tensor[0].item())\n",
    "\n",
    "    return policy_logits, value\n",
    "\n",
    "def mcts_search(board, model, num_simulations=800):\n",
    "    root = MCTSNode(board)\n",
    "    policy_logits, value = evaluate_board_with_mcts_node(board, model)\n",
    "\n",
    "    legal_moves = list(board.legal_moves)\n",
    "    expand_node(root, policy_logits, legal_moves)\n",
    "    add_dirichlet_noise(root)\n",
    "\n",
    "    for _ in range(num_simulations):\n",
    "        node = root\n",
    "        search_path = [node]\n",
    "\n",
    "        while node.is_expanded():\n",
    "            move, node = select_child(node)\n",
    "            search_path.append(node)\n",
    "\n",
    "        policy_logits, value = evaluate_board_with_mcts_node(node.board, model)\n",
    "        legal_moves = list(node.board.legal_moves)\n",
    "        expand_node(node, policy_logits, legal_moves)\n",
    "\n",
    "        backpropagate(node, value)\n",
    "\n",
    "    return root\n",
    "\n",
    "def choose_action(root, temperature=1.0):\n",
    "    visit_counts = np.array(\n",
    "        [child.visit_count for child in root.children.values()])\n",
    "    moves = list(root.children.keys())\n",
    "\n",
    "    if temperature == 0:\n",
    "        best_move = moves[np.argmax(visit_counts)]\n",
    "        return best_move\n",
    "\n",
    "    probs = softmax_temperature(visit_counts, temperature)\n",
    "    return np.random.choice(moves, p=probs)"
   ]
  },
  {
   "cell_type": "markdown",
   "id": "2f307375",
   "metadata": {},
   "source": [
    "# Stockfish"
   ]
  },
  {
   "cell_type": "code",
   "execution_count": 71,
   "id": "1878a323",
   "metadata": {},
   "outputs": [],
   "source": [
    "STOCKFISH_PATH = \"/home/mystic/Programming/mystic-bot/bots/stockfish-ubuntu-x86-64\"\n",
    "\n",
    "def get_stockfish_score(board, depth=15):\n",
    "    with chess.engine.SimpleEngine.popen_uci(STOCKFISH_PATH) as engine:\n",
    "        result = engine.analyse(board, chess.engine.Limit(depth=depth))\n",
    "        score = result[\"score\"].white().score(\n",
    "            mate_score=10000)\n",
    "        return score if score is not None else 0"
   ]
  },
  {
   "cell_type": "markdown",
   "id": "d1b15c7a",
   "metadata": {},
   "source": [
    "# Self Play"
   ]
  },
  {
   "cell_type": "code",
   "execution_count": 72,
   "id": "46b24de7",
   "metadata": {},
   "outputs": [],
   "source": [
    "MAX_MOVES = 200  # Prevents extremely long games\n",
    "\n",
    "\n",
    "def play_self_play_game(model, num_simulations=800, max_moves=200):\n",
    "    board = chess.Board()\n",
    "    states = []\n",
    "    policies = []\n",
    "    outcomes = []\n",
    "\n",
    "    i = 0\n",
    "    while not board.is_game_over(claim_draw=True) and i < max_moves:\n",
    "        root = mcts_search(board, model, num_simulations)\n",
    "        move = choose_action(root, temperature=1.0)\n",
    "\n",
    "        # Record data\n",
    "        board_tensor = board_encoder(board)\n",
    "        visit_counts = np.array(\n",
    "            [child.visit_count for child in root.children.values()])\n",
    "        visit_sum = np.sum(visit_counts)\n",
    "        policy_target = np.zeros(TOTAL_MOVES)\n",
    "        for m, child in root.children.items():\n",
    "            idx = move_index_map[m]\n",
    "            policy_target[idx] = child.visit_count / visit_sum\n",
    "\n",
    "        states.append(board_tensor)\n",
    "        policies.append(policy_target)\n",
    "        board.push(move)\n",
    "\n",
    "        # Save board image\n",
    "        svg = chess.svg.board(board=board)\n",
    "        cairosvg.svg2png(bytestring=svg.encode('utf-8'), write_to='temp.jpg')\n",
    "\n",
    "        i += 1\n",
    "        print(f\"Finished Move: {i}\")\n",
    "\n",
    "\n",
    "    if board.is_game_over(claim_draw=True):\n",
    "        result = board.result(claim_draw=True)\n",
    "        if result == '1-0':\n",
    "            z = 1\n",
    "        elif result == '0-1':\n",
    "            z = -1\n",
    "        else:\n",
    "            z = 0\n",
    "    else:\n",
    "        # Use Stockfish to evaluate final position\n",
    "        score = get_stockfish_score(board)\n",
    "        z = np.tanh(score / 400)  # normalize to [-1, 1] range\n",
    "        print(f\"🧮 Stockfish eval: {score} → normalized {z:.2f}\")\n",
    "\n",
    "    # Assign outcomes for each step\n",
    "    for j in range(len(states)):\n",
    "        outcomes.append(z if (j % 2 == 0) else -z)\n",
    "\n",
    "    return states, policies, outcomes\n",
    "\n",
    "\n",
    "def generate_training_data(model, num_games=10, num_simulations=800, max_moves=200):\n",
    "    all_states = []\n",
    "    all_policies = []\n",
    "    all_values = []\n",
    "\n",
    "    for _ in tqdm(range(num_games)):\n",
    "        states, policies, values = play_self_play_game(\n",
    "            model, num_simulations, max_moves)\n",
    "        all_states.extend(states)\n",
    "        all_policies.extend(policies)\n",
    "        all_values.extend(values)\n",
    "\n",
    "    return np.array(all_states), np.array(all_policies), np.array(all_values)\n",
    "\n",
    "\n",
    "def train_model(model, X, P, Z, epochs=10, batch_size=64, save_path=\"best_model.pt\"):\n",
    "    model.train()\n",
    "    model.to(DEVICE)\n",
    "    optimizer = torch.optim.Adam(model.parameters(), lr=1e-3)\n",
    "    loss_fn_policy = torch.nn.CrossEntropyLoss()\n",
    "    loss_fn_value = torch.nn.MSELoss()\n",
    "\n",
    "    # Convert numpy arrays to PyTorch tensors\n",
    "    X = torch.tensor(X, dtype=torch.float32)\n",
    "    P = torch.tensor(P, dtype=torch.float32)\n",
    "    Z = torch.tensor(Z, dtype=torch.float32)\n",
    "\n",
    "    dataset = torch.utils.data.TensorDataset(X, P, Z)\n",
    "    loader = torch.utils.data.DataLoader(\n",
    "        dataset, batch_size=batch_size, shuffle=True)\n",
    "\n",
    "    best_loss = float('inf')\n",
    "\n",
    "    for epoch in range(epochs):\n",
    "        total_loss = 0\n",
    "        pbar = tqdm(loader, desc=f\"Epoch {epoch+1}/{epochs}\", leave=False)\n",
    "\n",
    "        for xb, pb, zb in pbar:\n",
    "            xb, pb, zb = xb.to(DEVICE), pb.to(DEVICE), zb.to(DEVICE)\n",
    "\n",
    "            pred_policy, pred_value = model(xb)\n",
    "            loss_p = loss_fn_policy(pred_policy, torch.argmax(pb, dim=1))\n",
    "            loss_v = loss_fn_value(pred_value.squeeze(), zb)\n",
    "            loss = loss_p + loss_v\n",
    "\n",
    "            optimizer.zero_grad()\n",
    "            loss.backward()\n",
    "            optimizer.step()\n",
    "\n",
    "            total_loss += loss.item()\n",
    "            pbar.set_postfix(loss=f\"{loss.item():.4f}\")\n",
    "\n",
    "        avg_loss = total_loss / len(loader)\n",
    "        print(f\"✅ Epoch {epoch+1}: Avg Loss = {avg_loss:.4f}\")\n",
    "\n",
    "        # Save model if it's the best so far\n",
    "        if avg_loss < best_loss:\n",
    "            best_loss = avg_loss\n",
    "            torch.save(model.state_dict(), save_path)\n",
    "            print(\n",
    "                f\"💾 Best model saved at epoch {epoch+1} with loss {best_loss:.4f}\")"
   ]
  },
  {
   "cell_type": "markdown",
   "id": "04fc7082",
   "metadata": {},
   "source": [
    "# Run Pipeline"
   ]
  },
  {
   "cell_type": "code",
   "execution_count": null,
   "id": "696956c0",
   "metadata": {},
   "outputs": [
    {
     "name": "stdout",
     "output_type": "stream",
     "text": [
      "\n",
      "🚀 Starting Generation 1/10\n",
      "🎮 Generating training data via self-play...\n"
     ]
    },
    {
     "data": {
      "application/vnd.jupyter.widget-view+json": {
       "model_id": "4eb42f414bc840d78af15e7f3253e119",
       "version_major": 2,
       "version_minor": 0
      },
      "text/plain": [
       "  0%|          | 0/5 [00:00<?, ?it/s]"
      ]
     },
     "metadata": {},
     "output_type": "display_data"
    },
    {
     "name": "stdout",
     "output_type": "stream",
     "text": [
      "Finished Move: 1\n",
      "Finished Move: 2\n",
      "Finished Move: 3\n",
      "Finished Move: 4\n",
      "Finished Move: 5\n",
      "Finished Move: 6\n",
      "Finished Move: 7\n",
      "Finished Move: 8\n",
      "Finished Move: 9\n",
      "Finished Move: 10\n",
      "Finished Move: 11\n",
      "Finished Move: 12\n",
      "Finished Move: 13\n",
      "Finished Move: 14\n",
      "Finished Move: 15\n",
      "Finished Move: 16\n",
      "Finished Move: 17\n",
      "Finished Move: 18\n",
      "Finished Move: 19\n",
      "Finished Move: 20\n",
      "Finished Move: 21\n",
      "Finished Move: 22\n",
      "Finished Move: 23\n",
      "Finished Move: 24\n",
      "Finished Move: 25\n",
      "Finished Move: 26\n",
      "Finished Move: 27\n",
      "Finished Move: 28\n",
      "Finished Move: 29\n",
      "Finished Move: 30\n",
      "Finished Move: 31\n",
      "Finished Move: 32\n",
      "Finished Move: 33\n",
      "Finished Move: 34\n",
      "Finished Move: 35\n",
      "Finished Move: 36\n",
      "Finished Move: 1\n",
      "Finished Move: 2\n",
      "Finished Move: 3\n",
      "Finished Move: 4\n",
      "Finished Move: 5\n",
      "Finished Move: 6\n",
      "Finished Move: 7\n",
      "Finished Move: 8\n",
      "Finished Move: 9\n",
      "Finished Move: 10\n",
      "Finished Move: 11\n",
      "Finished Move: 12\n",
      "Finished Move: 13\n",
      "Finished Move: 14\n",
      "Finished Move: 15\n",
      "Finished Move: 16\n",
      "Finished Move: 17\n",
      "Finished Move: 18\n",
      "Finished Move: 19\n",
      "Finished Move: 20\n",
      "Finished Move: 21\n",
      "Finished Move: 22\n",
      "Finished Move: 23\n",
      "Finished Move: 24\n",
      "Finished Move: 25\n",
      "Finished Move: 26\n",
      "Finished Move: 27\n",
      "Finished Move: 28\n",
      "Finished Move: 29\n",
      "Finished Move: 30\n",
      "Finished Move: 31\n",
      "Finished Move: 32\n",
      "Finished Move: 33\n",
      "Finished Move: 34\n",
      "Finished Move: 35\n",
      "Finished Move: 36\n",
      "Finished Move: 1\n",
      "Finished Move: 2\n",
      "Finished Move: 3\n",
      "Finished Move: 4\n",
      "Finished Move: 5\n",
      "Finished Move: 6\n",
      "Finished Move: 7\n",
      "Finished Move: 8\n",
      "Finished Move: 9\n",
      "Finished Move: 10\n",
      "Finished Move: 11\n",
      "Finished Move: 12\n",
      "Finished Move: 13\n",
      "Finished Move: 14\n",
      "Finished Move: 15\n",
      "Finished Move: 16\n",
      "Finished Move: 17\n",
      "Finished Move: 18\n",
      "Finished Move: 19\n",
      "Finished Move: 20\n",
      "Finished Move: 21\n",
      "Finished Move: 22\n",
      "Finished Move: 23\n",
      "Finished Move: 24\n",
      "Finished Move: 25\n",
      "Finished Move: 26\n",
      "Finished Move: 27\n",
      "Finished Move: 28\n",
      "Finished Move: 29\n",
      "Finished Move: 30\n",
      "Finished Move: 31\n",
      "Finished Move: 32\n",
      "Finished Move: 33\n",
      "Finished Move: 34\n",
      "Finished Move: 35\n",
      "Finished Move: 36\n",
      "Finished Move: 1\n",
      "Finished Move: 2\n",
      "Finished Move: 3\n",
      "Finished Move: 4\n",
      "Finished Move: 5\n",
      "Finished Move: 6\n",
      "Finished Move: 7\n",
      "Finished Move: 8\n",
      "Finished Move: 9\n",
      "Finished Move: 10\n",
      "Finished Move: 11\n",
      "Finished Move: 12\n",
      "Finished Move: 13\n",
      "Finished Move: 14\n",
      "Finished Move: 15\n",
      "Finished Move: 16\n",
      "Finished Move: 17\n",
      "Finished Move: 18\n",
      "Finished Move: 19\n",
      "Finished Move: 20\n",
      "Finished Move: 21\n",
      "Finished Move: 22\n",
      "Finished Move: 23\n",
      "Finished Move: 24\n",
      "Finished Move: 25\n",
      "Finished Move: 26\n",
      "Finished Move: 27\n",
      "Finished Move: 28\n",
      "Finished Move: 29\n",
      "Finished Move: 30\n",
      "Finished Move: 31\n",
      "Finished Move: 32\n",
      "Finished Move: 33\n",
      "Finished Move: 34\n",
      "Finished Move: 35\n",
      "Finished Move: 36\n",
      "Finished Move: 1\n",
      "Finished Move: 2\n",
      "Finished Move: 3\n",
      "Finished Move: 4\n",
      "Finished Move: 5\n",
      "Finished Move: 6\n",
      "Finished Move: 7\n",
      "Finished Move: 8\n",
      "Finished Move: 9\n",
      "Finished Move: 10\n",
      "Finished Move: 11\n",
      "Finished Move: 12\n",
      "Finished Move: 13\n",
      "Finished Move: 14\n",
      "Finished Move: 15\n",
      "Finished Move: 16\n",
      "Finished Move: 17\n",
      "Finished Move: 18\n",
      "Finished Move: 19\n",
      "Finished Move: 20\n",
      "Finished Move: 21\n",
      "Finished Move: 22\n",
      "Finished Move: 23\n",
      "Finished Move: 24\n",
      "Finished Move: 25\n",
      "Finished Move: 26\n",
      "Finished Move: 27\n",
      "Finished Move: 28\n",
      "Finished Move: 29\n",
      "Finished Move: 30\n",
      "Finished Move: 31\n",
      "Finished Move: 32\n",
      "Finished Move: 33\n",
      "Finished Move: 34\n",
      "Finished Move: 35\n",
      "Finished Move: 36\n",
      "\n",
      "📊 Collected 180 positions from 5 games.\n",
      "🧠 Starting training...\n"
     ]
    },
    {
     "data": {
      "application/vnd.jupyter.widget-view+json": {
       "model_id": "83038b5a9bb742f7b4910613d97a1b88",
       "version_major": 2,
       "version_minor": 0
      },
      "text/plain": [
       "Epoch 1/10:   0%|          | 0/3 [00:00<?, ?it/s]"
      ]
     },
     "metadata": {},
     "output_type": "display_data"
    },
    {
     "name": "stdout",
     "output_type": "stream",
     "text": [
      "✅ Epoch 1: Avg Loss = 0.2180\n",
      "💾 Best model saved at epoch 1 with loss 0.2180\n"
     ]
    },
    {
     "data": {
      "application/vnd.jupyter.widget-view+json": {
       "model_id": "feb31a83bc1e4d098a5b8740f96e15d9",
       "version_major": 2,
       "version_minor": 0
      },
      "text/plain": [
       "Epoch 2/10:   0%|          | 0/3 [00:00<?, ?it/s]"
      ]
     },
     "metadata": {},
     "output_type": "display_data"
    },
    {
     "name": "stdout",
     "output_type": "stream",
     "text": [
      "✅ Epoch 2: Avg Loss = 0.1765\n",
      "💾 Best model saved at epoch 2 with loss 0.1765\n"
     ]
    },
    {
     "data": {
      "application/vnd.jupyter.widget-view+json": {
       "model_id": "65a3a9302c144f99aad501939ad33cff",
       "version_major": 2,
       "version_minor": 0
      },
      "text/plain": [
       "Epoch 3/10:   0%|          | 0/3 [00:00<?, ?it/s]"
      ]
     },
     "metadata": {},
     "output_type": "display_data"
    },
    {
     "name": "stdout",
     "output_type": "stream",
     "text": [
      "✅ Epoch 3: Avg Loss = 0.1350\n",
      "💾 Best model saved at epoch 3 with loss 0.1350\n"
     ]
    },
    {
     "data": {
      "application/vnd.jupyter.widget-view+json": {
       "model_id": "547bb5c664a54193aa5fd9194ad90468",
       "version_major": 2,
       "version_minor": 0
      },
      "text/plain": [
       "Epoch 4/10:   0%|          | 0/3 [00:00<?, ?it/s]"
      ]
     },
     "metadata": {},
     "output_type": "display_data"
    },
    {
     "name": "stdout",
     "output_type": "stream",
     "text": [
      "✅ Epoch 4: Avg Loss = 0.0441\n",
      "💾 Best model saved at epoch 4 with loss 0.0441\n"
     ]
    },
    {
     "data": {
      "application/vnd.jupyter.widget-view+json": {
       "model_id": "0bab0e4ecdc84c4bae48db868da4edac",
       "version_major": 2,
       "version_minor": 0
      },
      "text/plain": [
       "Epoch 5/10:   0%|          | 0/3 [00:00<?, ?it/s]"
      ]
     },
     "metadata": {},
     "output_type": "display_data"
    },
    {
     "name": "stdout",
     "output_type": "stream",
     "text": [
      "✅ Epoch 5: Avg Loss = 0.0212\n",
      "💾 Best model saved at epoch 5 with loss 0.0212\n"
     ]
    },
    {
     "data": {
      "application/vnd.jupyter.widget-view+json": {
       "model_id": "c373e0bc7a06493388c41ba2df99318e",
       "version_major": 2,
       "version_minor": 0
      },
      "text/plain": [
       "Epoch 6/10:   0%|          | 0/3 [00:00<?, ?it/s]"
      ]
     },
     "metadata": {},
     "output_type": "display_data"
    },
    {
     "name": "stdout",
     "output_type": "stream",
     "text": [
      "✅ Epoch 6: Avg Loss = 0.0168\n",
      "💾 Best model saved at epoch 6 with loss 0.0168\n"
     ]
    },
    {
     "data": {
      "application/vnd.jupyter.widget-view+json": {
       "model_id": "de813c10fa7e4e8b9fbafcff98f4ba21",
       "version_major": 2,
       "version_minor": 0
      },
      "text/plain": [
       "Epoch 7/10:   0%|          | 0/3 [00:00<?, ?it/s]"
      ]
     },
     "metadata": {},
     "output_type": "display_data"
    },
    {
     "name": "stdout",
     "output_type": "stream",
     "text": [
      "✅ Epoch 7: Avg Loss = 0.0067\n",
      "💾 Best model saved at epoch 7 with loss 0.0067\n"
     ]
    },
    {
     "data": {
      "application/vnd.jupyter.widget-view+json": {
       "model_id": "9f4f0b7ad29c4bdd99304ab01574416f",
       "version_major": 2,
       "version_minor": 0
      },
      "text/plain": [
       "Epoch 8/10:   0%|          | 0/3 [00:00<?, ?it/s]"
      ]
     },
     "metadata": {},
     "output_type": "display_data"
    },
    {
     "name": "stdout",
     "output_type": "stream",
     "text": [
      "✅ Epoch 8: Avg Loss = 0.0039\n",
      "💾 Best model saved at epoch 8 with loss 0.0039\n"
     ]
    },
    {
     "data": {
      "application/vnd.jupyter.widget-view+json": {
       "model_id": "3cc9cf71dd1f45da95d99048dd90b08f",
       "version_major": 2,
       "version_minor": 0
      },
      "text/plain": [
       "Epoch 9/10:   0%|          | 0/3 [00:00<?, ?it/s]"
      ]
     },
     "metadata": {},
     "output_type": "display_data"
    },
    {
     "name": "stdout",
     "output_type": "stream",
     "text": [
      "✅ Epoch 9: Avg Loss = 0.0021\n",
      "💾 Best model saved at epoch 9 with loss 0.0021\n"
     ]
    },
    {
     "data": {
      "application/vnd.jupyter.widget-view+json": {
       "model_id": "3a4af4c3e95c438da8e032281eb56b7d",
       "version_major": 2,
       "version_minor": 0
      },
      "text/plain": [
       "Epoch 10/10:   0%|          | 0/3 [00:00<?, ?it/s]"
      ]
     },
     "metadata": {},
     "output_type": "display_data"
    },
    {
     "name": "stdout",
     "output_type": "stream",
     "text": [
      "✅ Epoch 10: Avg Loss = 0.0015\n",
      "💾 Best model saved at epoch 10 with loss 0.0015\n",
      "\n",
      "✅ Training complete!\n",
      "\n",
      "🚀 Starting Generation 2/10\n",
      "🎮 Generating training data via self-play...\n"
     ]
    },
    {
     "data": {
      "application/vnd.jupyter.widget-view+json": {
       "model_id": "1c34f11f1bbf4f6286a6834e37d48e59",
       "version_major": 2,
       "version_minor": 0
      },
      "text/plain": [
       "  0%|          | 0/5 [00:00<?, ?it/s]"
      ]
     },
     "metadata": {},
     "output_type": "display_data"
    },
    {
     "name": "stdout",
     "output_type": "stream",
     "text": [
      "Finished Move: 1\n",
      "Finished Move: 2\n",
      "Finished Move: 3\n",
      "Finished Move: 4\n",
      "Finished Move: 5\n",
      "Finished Move: 6\n",
      "Finished Move: 7\n",
      "Finished Move: 8\n",
      "Finished Move: 9\n",
      "Finished Move: 10\n",
      "Finished Move: 11\n",
      "Finished Move: 12\n",
      "Finished Move: 13\n",
      "Finished Move: 14\n",
      "Finished Move: 15\n",
      "Finished Move: 16\n",
      "Finished Move: 17\n",
      "Finished Move: 18\n",
      "Finished Move: 19\n",
      "Finished Move: 20\n",
      "Finished Move: 21\n",
      "Finished Move: 22\n",
      "Finished Move: 23\n",
      "Finished Move: 24\n",
      "Finished Move: 25\n",
      "Finished Move: 26\n",
      "Finished Move: 27\n",
      "Finished Move: 28\n",
      "Finished Move: 29\n",
      "Finished Move: 30\n",
      "Finished Move: 31\n",
      "Finished Move: 32\n",
      "Finished Move: 33\n",
      "Finished Move: 34\n",
      "Finished Move: 35\n",
      "Finished Move: 36\n",
      "Finished Move: 37\n",
      "Finished Move: 38\n",
      "Finished Move: 1\n",
      "Finished Move: 2\n",
      "Finished Move: 3\n",
      "Finished Move: 4\n",
      "Finished Move: 5\n",
      "Finished Move: 6\n",
      "Finished Move: 7\n",
      "Finished Move: 8\n",
      "Finished Move: 9\n",
      "Finished Move: 10\n",
      "Finished Move: 11\n",
      "Finished Move: 12\n",
      "Finished Move: 13\n",
      "Finished Move: 14\n",
      "Finished Move: 15\n",
      "Finished Move: 16\n",
      "Finished Move: 17\n",
      "Finished Move: 18\n",
      "Finished Move: 19\n",
      "Finished Move: 20\n",
      "Finished Move: 21\n",
      "Finished Move: 22\n",
      "Finished Move: 23\n",
      "Finished Move: 24\n",
      "Finished Move: 25\n",
      "Finished Move: 26\n",
      "Finished Move: 27\n",
      "Finished Move: 28\n",
      "Finished Move: 29\n",
      "Finished Move: 30\n",
      "Finished Move: 31\n",
      "Finished Move: 32\n",
      "Finished Move: 33\n",
      "Finished Move: 34\n",
      "Finished Move: 35\n",
      "Finished Move: 36\n",
      "Finished Move: 37\n",
      "Finished Move: 38\n",
      "Finished Move: 1\n",
      "Finished Move: 2\n",
      "Finished Move: 3\n",
      "Finished Move: 4\n",
      "Finished Move: 5\n",
      "Finished Move: 6\n",
      "Finished Move: 7\n",
      "Finished Move: 8\n",
      "Finished Move: 9\n",
      "Finished Move: 10\n",
      "Finished Move: 11\n",
      "Finished Move: 12\n",
      "Finished Move: 13\n",
      "Finished Move: 14\n",
      "Finished Move: 15\n",
      "Finished Move: 16\n",
      "Finished Move: 17\n",
      "Finished Move: 18\n",
      "Finished Move: 19\n",
      "Finished Move: 20\n",
      "Finished Move: 21\n",
      "Finished Move: 22\n",
      "Finished Move: 23\n",
      "Finished Move: 24\n",
      "Finished Move: 25\n",
      "Finished Move: 26\n",
      "Finished Move: 27\n",
      "Finished Move: 28\n",
      "Finished Move: 29\n",
      "Finished Move: 30\n",
      "Finished Move: 31\n",
      "Finished Move: 32\n",
      "Finished Move: 33\n",
      "Finished Move: 34\n",
      "Finished Move: 35\n",
      "Finished Move: 36\n",
      "Finished Move: 37\n",
      "Finished Move: 38\n",
      "Finished Move: 1\n",
      "Finished Move: 2\n",
      "Finished Move: 3\n",
      "Finished Move: 4\n",
      "Finished Move: 5\n",
      "Finished Move: 6\n",
      "Finished Move: 7\n",
      "Finished Move: 8\n",
      "Finished Move: 9\n",
      "Finished Move: 10\n",
      "Finished Move: 11\n",
      "Finished Move: 12\n",
      "Finished Move: 13\n",
      "Finished Move: 14\n",
      "Finished Move: 15\n",
      "Finished Move: 16\n",
      "Finished Move: 17\n",
      "Finished Move: 18\n",
      "Finished Move: 19\n",
      "Finished Move: 20\n",
      "Finished Move: 21\n",
      "Finished Move: 22\n",
      "Finished Move: 23\n",
      "Finished Move: 24\n",
      "Finished Move: 25\n",
      "Finished Move: 26\n",
      "Finished Move: 27\n",
      "Finished Move: 28\n",
      "Finished Move: 29\n",
      "Finished Move: 30\n",
      "Finished Move: 31\n",
      "Finished Move: 32\n",
      "Finished Move: 33\n",
      "Finished Move: 34\n",
      "Finished Move: 35\n",
      "Finished Move: 36\n",
      "Finished Move: 37\n",
      "Finished Move: 38\n",
      "Finished Move: 1\n",
      "Finished Move: 2\n",
      "Finished Move: 3\n",
      "Finished Move: 4\n",
      "Finished Move: 5\n",
      "Finished Move: 6\n",
      "Finished Move: 7\n",
      "Finished Move: 8\n",
      "Finished Move: 9\n",
      "Finished Move: 10\n",
      "Finished Move: 11\n",
      "Finished Move: 12\n",
      "Finished Move: 13\n",
      "Finished Move: 14\n",
      "Finished Move: 15\n",
      "Finished Move: 16\n",
      "Finished Move: 17\n",
      "Finished Move: 18\n",
      "Finished Move: 19\n",
      "Finished Move: 20\n",
      "Finished Move: 21\n",
      "Finished Move: 22\n",
      "Finished Move: 23\n",
      "Finished Move: 24\n",
      "Finished Move: 25\n",
      "Finished Move: 26\n",
      "Finished Move: 27\n",
      "Finished Move: 28\n",
      "Finished Move: 29\n",
      "Finished Move: 30\n",
      "Finished Move: 31\n",
      "Finished Move: 32\n",
      "Finished Move: 33\n",
      "Finished Move: 34\n",
      "Finished Move: 35\n",
      "Finished Move: 36\n",
      "Finished Move: 37\n",
      "Finished Move: 38\n",
      "\n",
      "📊 Collected 190 positions from 5 games.\n",
      "🧠 Starting training...\n"
     ]
    },
    {
     "data": {
      "application/vnd.jupyter.widget-view+json": {
       "model_id": "82f92bad0ad5450ba41244717090450e",
       "version_major": 2,
       "version_minor": 0
      },
      "text/plain": [
       "Epoch 1/10:   0%|          | 0/3 [00:00<?, ?it/s]"
      ]
     },
     "metadata": {},
     "output_type": "display_data"
    },
    {
     "name": "stdout",
     "output_type": "stream",
     "text": [
      "✅ Epoch 1: Avg Loss = 0.3461\n",
      "💾 Best model saved at epoch 1 with loss 0.3461\n"
     ]
    },
    {
     "data": {
      "application/vnd.jupyter.widget-view+json": {
       "model_id": "3a6de36ad28e4879a1576f7135a0ddd6",
       "version_major": 2,
       "version_minor": 0
      },
      "text/plain": [
       "Epoch 2/10:   0%|          | 0/3 [00:00<?, ?it/s]"
      ]
     },
     "metadata": {},
     "output_type": "display_data"
    },
    {
     "name": "stdout",
     "output_type": "stream",
     "text": [
      "✅ Epoch 2: Avg Loss = 0.0477\n",
      "💾 Best model saved at epoch 2 with loss 0.0477\n"
     ]
    },
    {
     "data": {
      "application/vnd.jupyter.widget-view+json": {
       "model_id": "2f97150c338e48109cac4be53af4fe76",
       "version_major": 2,
       "version_minor": 0
      },
      "text/plain": [
       "Epoch 3/10:   0%|          | 0/3 [00:00<?, ?it/s]"
      ]
     },
     "metadata": {},
     "output_type": "display_data"
    },
    {
     "name": "stdout",
     "output_type": "stream",
     "text": [
      "✅ Epoch 3: Avg Loss = 0.0229\n",
      "💾 Best model saved at epoch 3 with loss 0.0229\n"
     ]
    },
    {
     "data": {
      "application/vnd.jupyter.widget-view+json": {
       "model_id": "fab09c4a414f4b0bb233fd74d585b796",
       "version_major": 2,
       "version_minor": 0
      },
      "text/plain": [
       "Epoch 4/10:   0%|          | 0/3 [00:00<?, ?it/s]"
      ]
     },
     "metadata": {},
     "output_type": "display_data"
    },
    {
     "name": "stdout",
     "output_type": "stream",
     "text": [
      "✅ Epoch 4: Avg Loss = 0.0048\n",
      "💾 Best model saved at epoch 4 with loss 0.0048\n"
     ]
    },
    {
     "data": {
      "application/vnd.jupyter.widget-view+json": {
       "model_id": "99a7bb041280440089833bdebd41a941",
       "version_major": 2,
       "version_minor": 0
      },
      "text/plain": [
       "Epoch 5/10:   0%|          | 0/3 [00:00<?, ?it/s]"
      ]
     },
     "metadata": {},
     "output_type": "display_data"
    },
    {
     "name": "stdout",
     "output_type": "stream",
     "text": [
      "✅ Epoch 5: Avg Loss = 0.0032\n",
      "💾 Best model saved at epoch 5 with loss 0.0032\n"
     ]
    },
    {
     "data": {
      "application/vnd.jupyter.widget-view+json": {
       "model_id": "0597e03e56304902b361834189c2e7c1",
       "version_major": 2,
       "version_minor": 0
      },
      "text/plain": [
       "Epoch 6/10:   0%|          | 0/3 [00:00<?, ?it/s]"
      ]
     },
     "metadata": {},
     "output_type": "display_data"
    },
    {
     "name": "stdout",
     "output_type": "stream",
     "text": [
      "✅ Epoch 6: Avg Loss = 0.0014\n",
      "💾 Best model saved at epoch 6 with loss 0.0014\n"
     ]
    },
    {
     "data": {
      "application/vnd.jupyter.widget-view+json": {
       "model_id": "68be8e8d00d044b0ac8be0341bcfd3e5",
       "version_major": 2,
       "version_minor": 0
      },
      "text/plain": [
       "Epoch 7/10:   0%|          | 0/3 [00:00<?, ?it/s]"
      ]
     },
     "metadata": {},
     "output_type": "display_data"
    },
    {
     "name": "stdout",
     "output_type": "stream",
     "text": [
      "✅ Epoch 7: Avg Loss = 0.0009\n",
      "💾 Best model saved at epoch 7 with loss 0.0009\n"
     ]
    },
    {
     "data": {
      "application/vnd.jupyter.widget-view+json": {
       "model_id": "8bfa416e61aa40bf9c08eb1463ab7559",
       "version_major": 2,
       "version_minor": 0
      },
      "text/plain": [
       "Epoch 8/10:   0%|          | 0/3 [00:00<?, ?it/s]"
      ]
     },
     "metadata": {},
     "output_type": "display_data"
    },
    {
     "name": "stdout",
     "output_type": "stream",
     "text": [
      "✅ Epoch 8: Avg Loss = 0.0007\n",
      "💾 Best model saved at epoch 8 with loss 0.0007\n"
     ]
    },
    {
     "data": {
      "application/vnd.jupyter.widget-view+json": {
       "model_id": "34926cc8d8384f7f8c8fdbc591c76c90",
       "version_major": 2,
       "version_minor": 0
      },
      "text/plain": [
       "Epoch 9/10:   0%|          | 0/3 [00:00<?, ?it/s]"
      ]
     },
     "metadata": {},
     "output_type": "display_data"
    },
    {
     "name": "stdout",
     "output_type": "stream",
     "text": [
      "✅ Epoch 9: Avg Loss = 0.0005\n",
      "💾 Best model saved at epoch 9 with loss 0.0005\n"
     ]
    },
    {
     "data": {
      "application/vnd.jupyter.widget-view+json": {
       "model_id": "c8c8e4424a3d4d43aef4b69148c1e288",
       "version_major": 2,
       "version_minor": 0
      },
      "text/plain": [
       "Epoch 10/10:   0%|          | 0/3 [00:00<?, ?it/s]"
      ]
     },
     "metadata": {},
     "output_type": "display_data"
    },
    {
     "name": "stdout",
     "output_type": "stream",
     "text": [
      "✅ Epoch 10: Avg Loss = 0.0003\n",
      "💾 Best model saved at epoch 10 with loss 0.0003\n",
      "\n",
      "✅ Training complete!\n",
      "\n",
      "🚀 Starting Generation 3/10\n",
      "🎮 Generating training data via self-play...\n"
     ]
    },
    {
     "data": {
      "application/vnd.jupyter.widget-view+json": {
       "model_id": "ad4008adfc46476391a70f359a8f47b1",
       "version_major": 2,
       "version_minor": 0
      },
      "text/plain": [
       "  0%|          | 0/5 [00:00<?, ?it/s]"
      ]
     },
     "metadata": {},
     "output_type": "display_data"
    },
    {
     "name": "stdout",
     "output_type": "stream",
     "text": [
      "Finished Move: 1\n",
      "Finished Move: 2\n",
      "Finished Move: 3\n",
      "Finished Move: 4\n",
      "Finished Move: 5\n",
      "Finished Move: 6\n",
      "Finished Move: 7\n",
      "Finished Move: 8\n",
      "Finished Move: 9\n",
      "Finished Move: 10\n",
      "Finished Move: 11\n",
      "Finished Move: 12\n",
      "Finished Move: 13\n",
      "Finished Move: 14\n",
      "Finished Move: 15\n",
      "Finished Move: 16\n",
      "Finished Move: 17\n",
      "Finished Move: 18\n",
      "Finished Move: 19\n",
      "Finished Move: 20\n",
      "Finished Move: 21\n",
      "Finished Move: 22\n",
      "Finished Move: 23\n",
      "Finished Move: 24\n",
      "Finished Move: 25\n",
      "Finished Move: 26\n",
      "Finished Move: 27\n",
      "Finished Move: 28\n",
      "Finished Move: 29\n"
     ]
    },
    {
     "name": "stderr",
     "output_type": "stream",
     "text": [
      "Exception ignored in: <bound method IPythonKernel._clean_thread_parent_frames of <ipykernel.ipkernel.IPythonKernel object at 0x7f8ea67ecf20>>\n",
      "Traceback (most recent call last):\n",
      "  File \"/home/mystic/Programming/mystic-bot/.env/lib/python3.12/site-packages/ipykernel/ipkernel.py\", line 775, in _clean_thread_parent_frames\n",
      "    def _clean_thread_parent_frames(\n",
      "\n",
      "KeyboardInterrupt: \n"
     ]
    },
    {
     "name": "stdout",
     "output_type": "stream",
     "text": [
      "Finished Move: 30\n",
      "Finished Move: 31\n",
      "Finished Move: 32\n",
      "Finished Move: 33\n",
      "Finished Move: 34\n",
      "Finished Move: 1\n",
      "Finished Move: 2\n",
      "Finished Move: 3\n",
      "Finished Move: 4\n",
      "Finished Move: 5\n",
      "Finished Move: 6\n",
      "Finished Move: 7\n",
      "Finished Move: 8\n",
      "Finished Move: 9\n",
      "Finished Move: 10\n",
      "Finished Move: 11\n",
      "Finished Move: 12\n",
      "Finished Move: 13\n",
      "Finished Move: 14\n",
      "Finished Move: 15\n",
      "Finished Move: 16\n",
      "Finished Move: 17\n",
      "Finished Move: 18\n",
      "Finished Move: 19\n",
      "Finished Move: 20\n",
      "Finished Move: 21\n",
      "Finished Move: 22\n"
     ]
    }
   ],
   "source": [
    "def run_training_pipeline(\n",
    "    model,\n",
    "    num_iterations=10,\n",
    "    num_games=10,\n",
    "    num_simulations=100,\n",
    "    epochs=10,\n",
    "    batch_size=64,\n",
    "    max_moves=200,\n",
    "    save_path=\"best_model.pt\"\n",
    "):\n",
    "    print(\"🎮 Generating training data via self-play...\")\n",
    "\n",
    "    all_states, all_policies, all_values = generate_training_data(\n",
    "        model, num_games=num_games,\n",
    "        num_simulations=num_simulations,\n",
    "        max_moves=max_moves\n",
    "    )\n",
    "\n",
    "    print(f\"\\n📊 Collected {len(all_states)} positions from {num_games} games.\")\n",
    "    print(\"🧠 Starting training...\")\n",
    "\n",
    "    train_model(\n",
    "        model,\n",
    "        all_states,\n",
    "        all_policies,\n",
    "        all_values,\n",
    "        epochs=epochs,\n",
    "        batch_size=batch_size,\n",
    "        save_path=save_path\n",
    "    )\n",
    "\n",
    "    print(\"\\n✅ Training complete!\")\n",
    "\n",
    "\n",
    "def run_full_training_loop(\n",
    "    model,\n",
    "    num_iterations=10,\n",
    "    games_per_iteration=10,\n",
    "    num_simulations=100,\n",
    "    epochs=10,\n",
    "    batch_size=64,\n",
    "    max_moves=200,\n",
    "    save_path=\"best_model.pt\"\n",
    "):\n",
    "    for gen in range(1, num_iterations + 1):\n",
    "        print(f\"\\n🚀 Starting Generation {gen}/{num_iterations}\")\n",
    "\n",
    "        run_training_pipeline(\n",
    "            model=model,\n",
    "            num_games=games_per_iteration,\n",
    "            num_simulations=num_simulations,\n",
    "            epochs=epochs,\n",
    "            batch_size=batch_size,\n",
    "            max_moves=max_moves,\n",
    "            save_path=save_path\n",
    "        )\n",
    "\n",
    "        # Optionally reload best weights after each gen\n",
    "        model.load_state_dict(torch.load(save_path))\n",
    "        model.to(DEVICE)\n",
    "\n",
    "    print(\"\\n🏁 All generations complete.\")\n",
    "\n",
    "\n",
    "run_full_training_loop(\n",
    "    model=model,\n",
    "    num_iterations=10,\n",
    "    games_per_iteration=5,\n",
    "    num_simulations=50,\n",
    "    epochs=10,\n",
    "    batch_size=64,\n",
    "    max_moves=100,\n",
    "    save_path=\"best_model.pt\"\n",
    ")"
   ]
  },
  {
   "cell_type": "code",
   "execution_count": null,
   "id": "49d44012",
   "metadata": {},
   "outputs": [],
   "source": []
  },
  {
   "cell_type": "code",
   "execution_count": null,
   "id": "a64d81e3",
   "metadata": {},
   "outputs": [],
   "source": []
  }
 ],
 "metadata": {
  "kernelspec": {
   "display_name": ".env",
   "language": "python",
   "name": "python3"
  },
  "language_info": {
   "codemirror_mode": {
    "name": "ipython",
    "version": 3
   },
   "file_extension": ".py",
   "mimetype": "text/x-python",
   "name": "python",
   "nbconvert_exporter": "python",
   "pygments_lexer": "ipython3",
   "version": "3.12.3"
  }
 },
 "nbformat": 4,
 "nbformat_minor": 5
}
