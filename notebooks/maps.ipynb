{
 "cells": [
  {
   "cell_type": "code",
   "execution_count": 1,
   "metadata": {},
   "outputs": [],
   "source": [
    "import time\n",
    "from lib import bitMapFile, boardToBitMap, display_board, bitMapToBoard\n",
    "import chess\n",
    "import itertools\n",
    "from tqdm.notebook import tqdm as tqdm\n",
    "import json\n",
    "from time import sleep"
   ]
  },
  {
   "cell_type": "code",
   "execution_count": 37,
   "metadata": {},
   "outputs": [],
   "source": [
    "def mapHash(position, oppBitMap):\n",
    "    return (oppBitMap << 6 | position)"
   ]
  },
  {
   "cell_type": "code",
   "execution_count": 40,
   "metadata": {},
   "outputs": [
    {
     "data": {
      "application/vnd.jupyter.widget-view+json": {
       "model_id": "1d9b86010c884ffc8b5f65ad27ed3fb9",
       "version_major": 2,
       "version_minor": 0
      },
      "text/plain": [
       "  0%|          | 0/64 [00:00<?, ?it/s]"
      ]
     },
     "metadata": {},
     "output_type": "display_data"
    }
   ],
   "source": [
    "finalBitMap = {}\n",
    "totalValues = 0\n",
    "\n",
    "for position in tqdm(range(64)):\n",
    "    board = chess.Board(None)\n",
    "    board.set_piece_at( position, chess.Piece(chess.BISHOP, chess.WHITE))\n",
    "    legal_moves = [\n",
    "        move for move in board.legal_moves if move.from_square == position]\n",
    "    powerset = []\n",
    "    for r in range(len(legal_moves) + 1):\n",
    "        for subset in itertools.combinations(legal_moves, r):\n",
    "            powerset.append(subset)\n",
    "    for moveSet in powerset:\n",
    "        tempBoard = chess.Board(None)\n",
    "        tempBoard.set_piece_at(\n",
    "            position, chess.Piece(chess.BISHOP, chess.WHITE))\n",
    "        oppBitMap = 0\n",
    "        for move in moveSet:\n",
    "            tempBoard.set_piece_at(\n",
    "                move.to_square, chess.Piece(chess.PAWN, chess.BLACK))\n",
    "            oppBitMap |= 1 << (63-move.to_square)\n",
    "        tempLegalMoves = [\n",
    "            move for move in tempBoard.legal_moves if move.from_square == position]\n",
    "        bitMap = 0\n",
    "        for move in tempLegalMoves:\n",
    "            bitMap |= 1 << (63-move.to_square)\n",
    "        currHash = mapHash(position, oppBitMap)\n",
    "        assert currHash not in finalBitMap, \"Hash Collision Found!\"\n",
    "        finalBitMap[currHash] = bitMap\n",
    "        totalValues += 1"
   ]
  },
  {
   "cell_type": "code",
   "execution_count": 41,
   "metadata": {},
   "outputs": [],
   "source": [
    "with open('diagonalMap.json', 'w+') as f:\n",
    "    json.dump(finalBitMap, f)"
   ]
  },
  {
   "cell_type": "code",
   "execution_count": 11,
   "metadata": {},
   "outputs": [
    {
     "data": {
      "text/plain": [
       "'rnbqkbnr/pppppppp/8/8/8/8/PPPPPPPP/RNBQKBNR w KQkq - 0 1'"
      ]
     },
     "execution_count": 11,
     "metadata": {},
     "output_type": "execute_result"
    }
   ],
   "source": [
    "board = bitMapToBoard(bitMapFile(\n",
    "    \"/home/mystic/Programming/mystic-bot/src/sample/default.json\"))\n",
    "board.fen()"
   ]
  },
  {
   "cell_type": "code",
   "execution_count": 4,
   "metadata": {},
   "outputs": [
    {
     "data": {
      "text/plain": [
       "{'rooks': 2535301201046759118051251060736,\n",
       " 'knights': 20480,\n",
       " 'bishops': 649037107316853453847787017863168,\n",
       " 'queens': 42535295865117307932921825928971026432,\n",
       " 'kings': 9444732965743585394688,\n",
       " 'pawns': 1486775696367240623243722359808,\n",
       " 'metadata': 65792,\n",
       " 'latest_move': 0}"
      ]
     },
     "execution_count": 4,
     "metadata": {},
     "output_type": "execute_result"
    }
   ],
   "source": [
    "bitMap"
   ]
  },
  {
   "cell_type": "code",
   "execution_count": null,
   "metadata": {},
   "outputs": [],
   "source": []
  }
 ],
 "metadata": {
  "kernelspec": {
   "display_name": ".env",
   "language": "python",
   "name": "python3"
  },
  "language_info": {
   "codemirror_mode": {
    "name": "ipython",
    "version": 3
   },
   "file_extension": ".py",
   "mimetype": "text/x-python",
   "name": "python",
   "nbconvert_exporter": "python",
   "pygments_lexer": "ipython3",
   "version": "3.12.3"
  }
 },
 "nbformat": 4,
 "nbformat_minor": 2
}
