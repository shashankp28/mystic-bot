{
 "cells": [
  {
   "cell_type": "code",
   "execution_count": 1,
   "metadata": {},
   "outputs": [],
   "source": [
    "import time"
   ]
  },
  {
   "cell_type": "code",
   "execution_count": 10,
   "metadata": {},
   "outputs": [
    {
     "name": "stdout",
     "output_type": "stream",
     "text": [
      "[[0, 9223372036854775808, 13835058055282163712, 16140901064495857664, 17293822569102704640, 17870283321406128128, 18158513697557839872, 18302628885633695744], [0, 36028797018963968, 54043195528445952, 63050394783186944, 67553994410557440, 69805794224242688, 70931694131085312, 71494644084506624], [0, 140737488355328, 211106232532992, 246290604621824, 263882790666240, 272678883688448, 277076930199552, 279275953455104], [0, 549755813888, 824633720832, 962072674304, 1030792151040, 1065151889408, 1082331758592, 1090921693184], [0, 2147483648, 3221225472, 3758096384, 4026531840, 4160749568, 4227858432, 4261412864], [0, 8388608, 12582912, 14680064, 15728640, 16252928, 16515072, 16646144], [0, 32768, 49152, 57344, 61440, 63488, 64512, 65024], [0, 128, 192, 224, 240, 248, 252, 254]]\n"
     ]
    }
   ],
   "source": [
    "bitMaps = []\n",
    "\n",
    "for i in range(8):\n",
    "    tempBitMap = []\n",
    "    for j in range(8):\n",
    "        dirX, dirY = [0, -1]\n",
    "        tempX, tempY = i+dirX, j+dirY\n",
    "        bits = 0\n",
    "        while tempX <= 7 and tempY <= 7 and tempX >= 0 and tempY >=0:\n",
    "            bits |= 1<<(63-tempX*8-tempY)\n",
    "            tempX += dirX\n",
    "            tempY += dirY\n",
    "        tempBitMap.append(bits)\n",
    "    bitMaps.append(tempBitMap)\n",
    "\n",
    "print(bitMaps)"
   ]
  },
  {
   "cell_type": "code",
   "execution_count": 11,
   "metadata": {},
   "outputs": [
    {
     "name": "stdout",
     "output_type": "stream",
     "text": [
      "2 0 0 0 0 0 0 0 \n",
      "0 0 0 0 0 0 0 0 \n",
      "0 0 0 0 0 0 0 0 \n",
      "0 0 0 0 0 0 0 0 \n",
      "0 0 0 0 0 0 0 0 \n",
      "0 0 0 0 0 0 0 0 \n",
      "0 0 0 0 0 0 0 0 \n",
      "0 0 0 0 0 0 0 0 \n",
      "\n",
      "1 2 0 0 0 0 0 0 \n",
      "0 0 0 0 0 0 0 0 \n",
      "0 0 0 0 0 0 0 0 \n",
      "0 0 0 0 0 0 0 0 \n",
      "0 0 0 0 0 0 0 0 \n",
      "0 0 0 0 0 0 0 0 \n",
      "0 0 0 0 0 0 0 0 \n",
      "0 0 0 0 0 0 0 0 \n",
      "\n",
      "1 1 2 0 0 0 0 0 \n",
      "0 0 0 0 0 0 0 0 \n",
      "0 0 0 0 0 0 0 0 \n",
      "0 0 0 0 0 0 0 0 \n",
      "0 0 0 0 0 0 0 0 \n",
      "0 0 0 0 0 0 0 0 \n",
      "0 0 0 0 0 0 0 0 \n",
      "0 0 0 0 0 0 0 0 \n",
      "\n",
      "1 1 1 2 0 0 0 0 \n",
      "0 0 0 0 0 0 0 0 \n",
      "0 0 0 0 0 0 0 0 \n",
      "0 0 0 0 0 0 0 0 \n",
      "0 0 0 0 0 0 0 0 \n",
      "0 0 0 0 0 0 0 0 \n",
      "0 0 0 0 0 0 0 0 \n",
      "0 0 0 0 0 0 0 0 \n",
      "\n",
      "1 1 1 1 2 0 0 0 \n",
      "0 0 0 0 0 0 0 0 \n",
      "0 0 0 0 0 0 0 0 \n",
      "0 0 0 0 0 0 0 0 \n",
      "0 0 0 0 0 0 0 0 \n",
      "0 0 0 0 0 0 0 0 \n",
      "0 0 0 0 0 0 0 0 \n",
      "0 0 0 0 0 0 0 0 \n",
      "\n",
      "1 1 1 1 1 2 0 0 \n",
      "0 0 0 0 0 0 0 0 \n",
      "0 0 0 0 0 0 0 0 \n",
      "0 0 0 0 0 0 0 0 \n",
      "0 0 0 0 0 0 0 0 \n",
      "0 0 0 0 0 0 0 0 \n",
      "0 0 0 0 0 0 0 0 \n",
      "0 0 0 0 0 0 0 0 \n",
      "\n"
     ]
    },
    {
     "ename": "KeyboardInterrupt",
     "evalue": "",
     "output_type": "error",
     "traceback": [
      "\u001b[0;31m---------------------------------------------------------------------------\u001b[0m",
      "\u001b[0;31mKeyboardInterrupt\u001b[0m                         Traceback (most recent call last)",
      "Cell \u001b[0;32mIn[11], line 14\u001b[0m\n\u001b[1;32m     12\u001b[0m     \u001b[38;5;28mprint\u001b[39m()\n\u001b[1;32m     13\u001b[0m \u001b[38;5;28mprint\u001b[39m()\n\u001b[0;32m---> 14\u001b[0m \u001b[43mtime\u001b[49m\u001b[38;5;241;43m.\u001b[39;49m\u001b[43msleep\u001b[49m\u001b[43m(\u001b[49m\u001b[38;5;241;43m1\u001b[39;49m\u001b[43m)\u001b[49m\n",
      "\u001b[0;31mKeyboardInterrupt\u001b[0m: "
     ]
    }
   ],
   "source": [
    "for x, row in enumerate(bitMaps):\n",
    "    for y, bits in enumerate(row):\n",
    "        for i in range(8):\n",
    "            for j in range(8):\n",
    "                if x==i and y==j:\n",
    "                    print('2', end=' ')\n",
    "                else:\n",
    "                    if bits & (1 << (63 - 8*i-j)):\n",
    "                        print('1', end=' ')\n",
    "                    else:\n",
    "                        print('0', end=' ')\n",
    "            print()\n",
    "        print()\n",
    "        time.sleep(1)\n",
    "\n",
    "        "
   ]
  },
  {
   "cell_type": "code",
   "execution_count": null,
   "metadata": {},
   "outputs": [],
   "source": []
  }
 ],
 "metadata": {
  "kernelspec": {
   "display_name": ".env",
   "language": "python",
   "name": "python3"
  },
  "language_info": {
   "codemirror_mode": {
    "name": "ipython",
    "version": 3
   },
   "file_extension": ".py",
   "mimetype": "text/x-python",
   "name": "python",
   "nbconvert_exporter": "python",
   "pygments_lexer": "ipython3",
   "version": "3.12.3"
  }
 },
 "nbformat": 4,
 "nbformat_minor": 2
}
