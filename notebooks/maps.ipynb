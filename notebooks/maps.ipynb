{
 "cells": [
  {
   "cell_type": "code",
   "execution_count": 4,
   "metadata": {},
   "outputs": [],
   "source": [
    "import chess.pgn"
   ]
  },
  {
   "cell_type": "code",
   "execution_count": 8,
   "metadata": {},
   "outputs": [
    {
     "name": "stdout",
     "output_type": "stream",
     "text": [
      "rnbqkbnr/pppppppp/8/8/8/8/PPPPPPPP/RNBQKBNR w KQkq - 0 1\n",
      "rnbqkbnr/pppppppp/8/8/4P3/8/PPPP1PPP/RNBQKBNR b KQkq - 0 1\n",
      "rnbqkbnr/pppp1ppp/8/4p3/4P3/8/PPPP1PPP/RNBQKBNR w KQkq - 0 2\n",
      "rnbqkbnr/pppp1ppp/8/4p3/4P3/2N5/PPPP1PPP/R1BQKBNR b KQkq - 1 2\n",
      "rnbqk1nr/pppp1ppp/8/2b1p3/4P3/2N5/PPPP1PPP/R1BQKBNR w KQkq - 2 3\n",
      "rnbqk1nr/pppp1ppp/8/2b1p3/2B1P3/2N5/PPPP1PPP/R1BQK1NR b KQkq - 3 3\n",
      "rnbqk2r/pppp1ppp/5n2/2b1p3/2B1P3/2N5/PPPP1PPP/R1BQK1NR w KQkq - 4 4\n",
      "rnbqk2r/pppp1ppp/5n2/2b1p3/2B1P3/2NP4/PPP2PPP/R1BQK1NR b KQkq - 0 4\n",
      "rnbqk2r/pp1p1ppp/2p2n2/2b1p3/2B1P3/2NP4/PPP2PPP/R1BQK1NR w KQkq - 0 5\n",
      "rnbqk2r/pp1p1ppp/2p2n2/2b1p1B1/2B1P3/2NP4/PPP2PPP/R2QK1NR b KQkq - 1 5\n",
      "rnbqk2r/pp1p1pp1/2p2n1p/2b1p1B1/2B1P3/2NP4/PPP2PPP/R2QK1NR w KQkq - 0 6\n",
      "rnbqk2r/pp1p1pp1/2p2n1p/2b1p3/2B1P2B/2NP4/PPP2PPP/R2QK1NR b KQkq - 1 6\n",
      "rnbqk2r/pp3pp1/2p2n1p/2bpp3/2B1P2B/2NP4/PPP2PPP/R2QK1NR w KQkq - 0 7\n",
      "rnbqk2r/pp3pp1/2p2n1p/2bPp3/2B4B/2NP4/PPP2PPP/R2QK1NR b KQkq - 0 7\n",
      "rnbqk2r/pp3pp1/5n1p/2bpp3/2B4B/2NP4/PPP2PPP/R2QK1NR w KQkq - 0 8\n",
      "rnbqk2r/pp3pp1/5n1p/2bNp3/2B4B/3P4/PPP2PPP/R2QK1NR b KQkq - 0 8\n",
      "rnbqk2r/pp3p2/5n1p/2bNp1p1/2B4B/3P4/PPP2PPP/R2QK1NR w KQkq - 0 9\n",
      "rnbqk2r/pp3p2/5N1p/2b1p1p1/2B4B/3P4/PPP2PPP/R2QK1NR b KQkq - 0 9\n",
      "rnb1k2r/pp3p2/5q1p/2b1p1p1/2B4B/3P4/PPP2PPP/R2QK1NR w KQkq - 0 10\n",
      "rnb1k2r/pp3p2/5q1p/2b1p1p1/2B5/3P2B1/PPP2PPP/R2QK1NR b KQkq - 1 10\n",
      "r1b1k2r/pp3p2/2n2q1p/2b1p1p1/2B5/3P2B1/PPP2PPP/R2QK1NR w KQkq - 2 11\n",
      "r1b1k2r/pp3p2/2n2q1p/1Bb1p1p1/8/3P2B1/PPP2PPP/R2QK1NR b KQkq - 3 11\n",
      "r3k2r/pp1b1p2/2n2q1p/1Bb1p1p1/8/3P2B1/PPP2PPP/R2QK1NR w KQkq - 4 12\n",
      "r3k2r/pp1b1p2/2n2q1p/1Bb1p1p1/8/3P1QB1/PPP2PPP/R3K1NR b KQkq - 5 12\n",
      "r3k2r/pp1b1p2/2n1q2p/1Bb1p1p1/8/3P1QB1/PPP2PPP/R3K1NR w KQkq - 6 13\n",
      "r3k2r/pp1b1p2/2n1q2p/1Bb1p1p1/8/3P1QB1/PPP2PPP/R4KNR b kq - 7 13\n",
      "2kr3r/pp1b1p2/2n1q2p/1Bb1p1p1/8/3P1QB1/PPP2PPP/R4KNR w - - 8 14\n",
      "2kr3r/pp1b1p2/2n1q2p/2b1p1p1/2B5/3P1QB1/PPP2PPP/R4KNR b - - 9 14\n",
      "2kr3r/pp1bqp2/2n4p/2b1p1p1/2B5/3P1QB1/PPP2PPP/R4KNR w - - 10 15\n",
      "2kr3r/pp1bqQ2/2n4p/2b1p1p1/2B5/3P2B1/PPP2PPP/R4KNR b - - 0 15\n",
      "2kr3r/pp1b1Q2/2nq3p/2b1p1p1/2B5/3P2B1/PPP2PPP/R4KNR w - - 1 16\n",
      "2kr3r/pp1b4/2nq3p/2bQp1p1/2B5/3P2B1/PPP2PPP/R4KNR b - - 2 16\n",
      "2kr3r/pp1bq3/2n4p/2bQp1p1/2B5/3P2B1/PPP2PPP/R4KNR w - - 3 17\n",
      "2kr3r/pp1bq3/2n4p/2b1p1p1/2B1Q3/3P2B1/PPP2PPP/R4KNR b - - 4 17\n",
      "2kr1r2/pp1bq3/2n4p/2b1p1p1/2B1Q3/3P2B1/PPP2PPP/R4KNR w - - 5 18\n",
      "2kr1r2/pp1bq3/2n4p/2b1p1p1/2B1Q3/3P1NB1/PPP2PPP/R4K1R b - - 6 18\n",
      "2kr1r2/pp1bq3/2n4p/2b1p3/2B1Q1p1/3P1NB1/PPP2PPP/R4K1R w - - 0 19\n",
      "2kr1r2/pp1bq3/2n4p/2b1p3/2B1Q1pB/3P1N2/PPP2PPP/R4K1R b - - 1 19\n",
      "2kr1r2/pp1b2q1/2n4p/2b1p3/2B1Q1pB/3P1N2/PPP2PPP/R4K1R w - - 2 20\n",
      "2kr1r2/pp1b2q1/2n4p/2b1p3/2B1Q1pB/3P4/PPPN1PPP/R4K1R b - - 3 20\n",
      "2kr1r2/pp1b2q1/7p/2b1p3/2BnQ1pB/3P4/PPPN1PPP/R4K1R w - - 4 21\n",
      "2kB1r2/pp1b2q1/7p/2b1p3/2BnQ1p1/3P4/PPPN1PPP/R4K1R b - - 0 21\n",
      "2kB1r2/pp4q1/2b4p/2b1p3/2BnQ1p1/3P4/PPPN1PPP/R4K1R w - - 1 22\n",
      "2kB1r2/pp4q1/2b4p/2bBp3/3nQ1p1/3P4/PPPN1PPP/R4K1R b - - 2 22\n",
      "3k1r2/pp4q1/2b4p/2bBp3/3nQ1p1/3P4/PPPN1PPP/R4K1R w - - 0 23\n",
      "3k1r2/pp4q1/2B4p/2b1p3/3nQ1p1/3P4/PPPN1PPP/R4K1R b - - 0 23\n",
      "3k1r2/p5q1/2p4p/2b1p3/3nQ1p1/3P4/PPPN1PPP/R4K1R w - - 0 24\n",
      "3k1r2/p5q1/2p4p/2b1p3/3nQ1p1/3P4/PPPN1PPP/2R2K1R b - - 1 24\n",
      "3k1r2/p7/2p2q1p/2b1p3/3nQ1p1/3P4/PPPN1PPP/2R2K1R w - - 2 25\n",
      "3k1r2/p7/2p2q1p/2b1p3/3n2p1/3P4/PPPN1PPP/2R1QK1R b - - 3 25\n",
      "3k1r2/p7/2p4p/2b1p3/3n2pq/3P4/PPPN1PPP/2R1QK1R w - - 4 26\n",
      "3k1r2/p7/2p4p/2b1p3/3nN1pq/3P4/PPP2PPP/2R1QK1R b - - 5 26\n",
      "3k1r2/p7/1bp4p/4p3/3nN1pq/3P4/PPP2PPP/2R1QK1R w - - 6 27\n",
      "3k1r2/p7/1bp4p/4p3/1Q1nN1pq/3P4/PPP2PPP/2R2K1R b - - 7 27\n",
      "3k1r2/p7/1bp2q1p/4p3/1Q1nN1p1/3P4/PPP2PPP/2R2K1R w - - 8 28\n",
      "3k1r2/p7/1bp2N1p/4p3/1Q1n2p1/3P4/PPP2PPP/2R2K1R b - - 0 28\n",
      "3k4/p7/1bp2r1p/4p3/1Q1n2p1/3P4/PPP2PPP/2R2K1R w - - 0 29\n",
      "3k4/p7/1bp2r1p/4p3/2Qn2p1/3P4/PPP2PPP/2R2K1R b - - 1 29\n",
      "3k4/p7/1bp2r2/4p2p/2Qn2p1/3P4/PPP2PPP/2R2K1R w - - 0 30\n",
      "3k2Q1/p7/1bp2r2/4p2p/3n2p1/3P4/PPP2PPP/2R2K1R b - - 1 30\n",
      "6Q1/p2k4/1bp2r2/4p2p/3n2p1/3P4/PPP2PPP/2R2K1R w - - 2 31\n",
      "8/p2k2Q1/1bp2r2/4p2p/3n2p1/3P4/PPP2PPP/2R2K1R b - - 3 31\n",
      "8/p5Q1/1bp1kr2/4p2p/3n2p1/3P4/PPP2PPP/2R2K1R w - - 4 32\n",
      "6Q1/p7/1bp1kr2/4p2p/3n2p1/3P4/PPP2PPP/2R2K1R b - - 5 32\n",
      "6Q1/p2k4/1bp2r2/4p2p/3n2p1/3P4/PPP2PPP/2R2K1R w - - 6 33\n",
      "8/p2k2Q1/1bp2r2/4p2p/3n2p1/3P4/PPP2PPP/2R2K1R b - - 7 33\n",
      "8/p5Q1/1bp1kr2/4p2p/3n2p1/3P4/PPP2PPP/2R2K1R w - - 8 34\n",
      "6Q1/p7/1bp1kr2/4p2p/3n2p1/3P4/PPP2PPP/2R2K1R b - - 9 34\n"
     ]
    }
   ],
   "source": [
    "# Open the PGN file\n",
    "pgn_file = open(\"./hello.pgn\")\n",
    "\n",
    "# Read the first game from the PGN file\n",
    "game = chess.pgn.read_game(pgn_file)\n",
    "# Replay moves\n",
    "board = game.board()\n",
    "for move in game.mainline_moves():\n",
    "    print(board.fen())\n",
    "    board.push(move)"
   ]
  },
  {
   "cell_type": "code",
   "execution_count": null,
   "metadata": {},
   "outputs": [],
   "source": []
  }
 ],
 "metadata": {
  "kernelspec": {
   "display_name": ".env",
   "language": "python",
   "name": "python3"
  },
  "language_info": {
   "codemirror_mode": {
    "name": "ipython",
    "version": 3
   },
   "file_extension": ".py",
   "mimetype": "text/x-python",
   "name": "python",
   "nbconvert_exporter": "python",
   "pygments_lexer": "ipython3",
   "version": "3.12.3"
  }
 },
 "nbformat": 4,
 "nbformat_minor": 2
}
