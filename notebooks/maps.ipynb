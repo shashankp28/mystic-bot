{
 "cells": [
  {
   "cell_type": "code",
   "execution_count": 17,
   "metadata": {},
   "outputs": [],
   "source": [
    "import time"
   ]
  },
  {
   "cell_type": "code",
   "execution_count": 40,
   "metadata": {},
   "outputs": [
    {
     "name": "stdout",
     "output_type": "stream",
     "text": [
      "[[0, 36028797018963968, 18155135997837312, 9078117754732544, 4539061024849920, 2269530520813568, 1134765260439552, 567382630219904], [0, 140737488355328, 70918499991552, 35461397479424, 17730707128320, 8865353596928, 4432676798592, 2216338399296], [0, 549755813888, 277025390592, 138521083904, 69260574720, 34630287488, 17315143744, 8657571872], [0, 2147483648, 1082130432, 541097984, 270549120, 135274560, 67637280, 33818640], [0, 8388608, 4227072, 2113664, 1056832, 528416, 264208, 132104], [0, 32768, 16512, 8256, 4128, 2064, 1032, 516], [0, 128, 64, 32, 16, 8, 4, 2], [0, 0, 0, 0, 0, 0, 0, 0]]\n"
     ]
    }
   ],
   "source": [
    "bitMaps = []\n",
    "\n",
    "for i in range(8):\n",
    "    tempBitMap = []\n",
    "    for j in range(8):\n",
    "        dirX, dirY = [1, -1]\n",
    "        tempX, tempY = i+dirX, j+dirY\n",
    "        bits = 0\n",
    "        while tempX <= 7 and tempY <= 7 and tempX >= 0 and tempY >=0:\n",
    "            bits |= 1<<(63-tempX*8-tempY)\n",
    "            tempX += dirX\n",
    "            tempY += dirY\n",
    "        tempBitMap.append(bits)\n",
    "    bitMaps.append(tempBitMap)\n",
    "\n",
    "print(bitMaps)"
   ]
  },
  {
   "cell_type": "code",
   "execution_count": 41,
   "metadata": {},
   "outputs": [
    {
     "name": "stdout",
     "output_type": "stream",
     "text": [
      "2 0 0 0 0 0 0 0 \n",
      "0 0 0 0 0 0 0 0 \n",
      "0 0 0 0 0 0 0 0 \n",
      "0 0 0 0 0 0 0 0 \n",
      "0 0 0 0 0 0 0 0 \n",
      "0 0 0 0 0 0 0 0 \n",
      "0 0 0 0 0 0 0 0 \n",
      "0 0 0 0 0 0 0 0 \n",
      "\n",
      "0 2 0 0 0 0 0 0 \n",
      "1 0 0 0 0 0 0 0 \n",
      "0 0 0 0 0 0 0 0 \n",
      "0 0 0 0 0 0 0 0 \n",
      "0 0 0 0 0 0 0 0 \n",
      "0 0 0 0 0 0 0 0 \n",
      "0 0 0 0 0 0 0 0 \n",
      "0 0 0 0 0 0 0 0 \n",
      "\n",
      "0 0 2 0 0 0 0 0 \n",
      "0 1 0 0 0 0 0 0 \n",
      "1 0 0 0 0 0 0 0 \n",
      "0 0 0 0 0 0 0 0 \n",
      "0 0 0 0 0 0 0 0 \n",
      "0 0 0 0 0 0 0 0 \n",
      "0 0 0 0 0 0 0 0 \n",
      "0 0 0 0 0 0 0 0 \n",
      "\n",
      "0 0 0 2 0 0 0 0 \n",
      "0 0 1 0 0 0 0 0 \n",
      "0 1 0 0 0 0 0 0 \n",
      "1 0 0 0 0 0 0 0 \n",
      "0 0 0 0 0 0 0 0 \n",
      "0 0 0 0 0 0 0 0 \n",
      "0 0 0 0 0 0 0 0 \n",
      "0 0 0 0 0 0 0 0 \n",
      "\n",
      "0 0 0 0 2 0 0 0 \n",
      "0 0 0 1 0 0 0 0 \n",
      "0 0 1 0 0 0 0 0 \n",
      "0 1 0 0 0 0 0 0 \n",
      "1 0 0 0 0 0 0 0 \n",
      "0 0 0 0 0 0 0 0 \n",
      "0 0 0 0 0 0 0 0 \n",
      "0 0 0 0 0 0 0 0 \n",
      "\n",
      "0 0 0 0 0 2 0 0 \n",
      "0 0 0 0 1 0 0 0 \n",
      "0 0 0 1 0 0 0 0 \n",
      "0 0 1 0 0 0 0 0 \n",
      "0 1 0 0 0 0 0 0 \n",
      "1 0 0 0 0 0 0 0 \n",
      "0 0 0 0 0 0 0 0 \n",
      "0 0 0 0 0 0 0 0 \n",
      "\n"
     ]
    },
    {
     "ename": "KeyboardInterrupt",
     "evalue": "",
     "output_type": "error",
     "traceback": [
      "\u001b[0;31m---------------------------------------------------------------------------\u001b[0m",
      "\u001b[0;31mKeyboardInterrupt\u001b[0m                         Traceback (most recent call last)",
      "Cell \u001b[0;32mIn[41], line 14\u001b[0m\n\u001b[1;32m     12\u001b[0m     \u001b[38;5;28mprint\u001b[39m()\n\u001b[1;32m     13\u001b[0m \u001b[38;5;28mprint\u001b[39m()\n\u001b[0;32m---> 14\u001b[0m \u001b[43mtime\u001b[49m\u001b[38;5;241;43m.\u001b[39;49m\u001b[43msleep\u001b[49m\u001b[43m(\u001b[49m\u001b[38;5;241;43m1\u001b[39;49m\u001b[43m)\u001b[49m\n",
      "\u001b[0;31mKeyboardInterrupt\u001b[0m: "
     ]
    }
   ],
   "source": [
    "for x, row in enumerate(bitMaps):\n",
    "    for y, bits in enumerate(row):\n",
    "        for i in range(8):\n",
    "            for j in range(8):\n",
    "                if x==i and y==j:\n",
    "                    print('2', end=' ')\n",
    "                else:\n",
    "                    if bits & (1 << (63 - 8*i-j)):\n",
    "                        print('1', end=' ')\n",
    "                    else:\n",
    "                        print('0', end=' ')\n",
    "            print()\n",
    "        print()\n",
    "        time.sleep(1)\n",
    "\n",
    "        "
   ]
  },
  {
   "cell_type": "code",
   "execution_count": null,
   "metadata": {},
   "outputs": [],
   "source": []
  }
 ],
 "metadata": {
  "kernelspec": {
   "display_name": ".env",
   "language": "python",
   "name": "python3"
  },
  "language_info": {
   "codemirror_mode": {
    "name": "ipython",
    "version": 3
   },
   "file_extension": ".py",
   "mimetype": "text/x-python",
   "name": "python",
   "nbconvert_exporter": "python",
   "pygments_lexer": "ipython3",
   "version": "3.12.3"
  }
 },
 "nbformat": 4,
 "nbformat_minor": 2
}
